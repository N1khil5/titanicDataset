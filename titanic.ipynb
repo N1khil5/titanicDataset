{
  "cells": [
    {
      "cell_type": "code",
      "execution_count": 4,
      "metadata": {
        "id": "2sbR1PNlMWYv"
      },
      "outputs": [],
      "source": [
        "import pandas as pd\n",
        "import matplotlib.pyplot as plt\n",
        "import seaborn as sns"
      ]
    },
    {
      "cell_type": "code",
      "execution_count": 5,
      "metadata": {
        "id": "Y4jofqwtMWY0"
      },
      "outputs": [],
      "source": [
        "df = pd.read_csv('./titanic.csv')"
      ]
    },
    {
      "cell_type": "code",
      "execution_count": 6,
      "metadata": {
        "colab": {
          "base_uri": "https://localhost:8080/",
          "height": 300
        },
        "id": "UGm8EpDUMWY0",
        "outputId": "98688570-bf0a-41b6-bf97-0e8b2a776bcf"
      },
      "outputs": [
        {
          "data": {
            "text/html": [
              "<div>\n",
              "<style scoped>\n",
              "    .dataframe tbody tr th:only-of-type {\n",
              "        vertical-align: middle;\n",
              "    }\n",
              "\n",
              "    .dataframe tbody tr th {\n",
              "        vertical-align: top;\n",
              "    }\n",
              "\n",
              "    .dataframe thead th {\n",
              "        text-align: right;\n",
              "    }\n",
              "</style>\n",
              "<table border=\"1\" class=\"dataframe\">\n",
              "  <thead>\n",
              "    <tr style=\"text-align: right;\">\n",
              "      <th></th>\n",
              "      <th>Survived</th>\n",
              "      <th>Age</th>\n",
              "      <th>Siblings/Spouses Aboard</th>\n",
              "      <th>Parents/Children Aboard</th>\n",
              "      <th>Fare</th>\n",
              "    </tr>\n",
              "  </thead>\n",
              "  <tbody>\n",
              "    <tr>\n",
              "      <th>count</th>\n",
              "      <td>887.000000</td>\n",
              "      <td>887.000000</td>\n",
              "      <td>887.000000</td>\n",
              "      <td>887.000000</td>\n",
              "      <td>887.000000</td>\n",
              "    </tr>\n",
              "    <tr>\n",
              "      <th>mean</th>\n",
              "      <td>0.385569</td>\n",
              "      <td>31.336156</td>\n",
              "      <td>0.466742</td>\n",
              "      <td>0.331454</td>\n",
              "      <td>10517.085578</td>\n",
              "    </tr>\n",
              "    <tr>\n",
              "      <th>std</th>\n",
              "      <td>0.487004</td>\n",
              "      <td>28.162654</td>\n",
              "      <td>1.130717</td>\n",
              "      <td>0.830127</td>\n",
              "      <td>81274.234057</td>\n",
              "    </tr>\n",
              "    <tr>\n",
              "      <th>min</th>\n",
              "      <td>0.000000</td>\n",
              "      <td>-56.000000</td>\n",
              "      <td>-8.000000</td>\n",
              "      <td>-5.000000</td>\n",
              "      <td>0.000000</td>\n",
              "    </tr>\n",
              "    <tr>\n",
              "      <th>25%</th>\n",
              "      <td>0.000000</td>\n",
              "      <td>20.000000</td>\n",
              "      <td>0.000000</td>\n",
              "      <td>0.000000</td>\n",
              "      <td>7.925000</td>\n",
              "    </tr>\n",
              "    <tr>\n",
              "      <th>50%</th>\n",
              "      <td>0.000000</td>\n",
              "      <td>28.000000</td>\n",
              "      <td>0.000000</td>\n",
              "      <td>0.000000</td>\n",
              "      <td>14.500000</td>\n",
              "    </tr>\n",
              "    <tr>\n",
              "      <th>75%</th>\n",
              "      <td>1.000000</td>\n",
              "      <td>38.000000</td>\n",
              "      <td>1.000000</td>\n",
              "      <td>0.000000</td>\n",
              "      <td>31.387500</td>\n",
              "    </tr>\n",
              "    <tr>\n",
              "      <th>max</th>\n",
              "      <td>1.000000</td>\n",
              "      <td>240.000000</td>\n",
              "      <td>8.000000</td>\n",
              "      <td>6.000000</td>\n",
              "      <td>800069.550000</td>\n",
              "    </tr>\n",
              "  </tbody>\n",
              "</table>\n",
              "</div>"
            ],
            "text/plain": [
              "         Survived         Age  Siblings/Spouses Aboard  \\\n",
              "count  887.000000  887.000000               887.000000   \n",
              "mean     0.385569   31.336156                 0.466742   \n",
              "std      0.487004   28.162654                 1.130717   \n",
              "min      0.000000  -56.000000                -8.000000   \n",
              "25%      0.000000   20.000000                 0.000000   \n",
              "50%      0.000000   28.000000                 0.000000   \n",
              "75%      1.000000   38.000000                 1.000000   \n",
              "max      1.000000  240.000000                 8.000000   \n",
              "\n",
              "       Parents/Children Aboard           Fare  \n",
              "count               887.000000     887.000000  \n",
              "mean                  0.331454   10517.085578  \n",
              "std                   0.830127   81274.234057  \n",
              "min                  -5.000000       0.000000  \n",
              "25%                   0.000000       7.925000  \n",
              "50%                   0.000000      14.500000  \n",
              "75%                   0.000000      31.387500  \n",
              "max                   6.000000  800069.550000  "
            ]
          },
          "execution_count": 6,
          "metadata": {},
          "output_type": "execute_result"
        }
      ],
      "source": [
        "df.describe()"
      ]
    },
    {
      "cell_type": "markdown",
      "metadata": {
        "id": "PIqeoCijMWY2"
      },
      "source": [
        "Looking for Null values in the dataset"
      ]
    },
    {
      "cell_type": "code",
      "execution_count": 7,
      "metadata": {
        "colab": {
          "base_uri": "https://localhost:8080/"
        },
        "id": "YMfRYJE2MWY4",
        "outputId": "1c38513a-9801-4d43-b905-d137eb5f0a4d"
      },
      "outputs": [
        {
          "data": {
            "text/plain": [
              "Survived                    0\n",
              "Pclass                      0\n",
              "Name                        0\n",
              "Sex                        13\n",
              "Age                         0\n",
              "Siblings/Spouses Aboard     0\n",
              "Parents/Children Aboard     0\n",
              "Fare                        0\n",
              "dtype: int64"
            ]
          },
          "execution_count": 7,
          "metadata": {},
          "output_type": "execute_result"
        }
      ],
      "source": [
        "df.isnull().sum()"
      ]
    },
    {
      "cell_type": "markdown",
      "metadata": {
        "id": "YUpxyhbKOMv8"
      },
      "source": [
        "Data Cleaning Decisions:\n",
        "\n",
        "The ages in the data set follow the range from -56 to 240 which shows some errors in the dataset so only the ages from 0 to 100 are considered during analysis.\n",
        "\n",
        "There are 13 null values in the Sex column and since there is no sure way to guess which Sex the passenger is, those 13 rows have been ommitted from analysis."
      ]
    },
    {
      "cell_type": "markdown",
      "metadata": {
        "id": "VuOwhXfoMWY4"
      },
      "source": [
        "Since there are only 13 rows with null values and there's no reasonable way to classify the gender for these rows, we can discount them for the analysis."
      ]
    },
    {
      "cell_type": "code",
      "execution_count": 8,
      "metadata": {
        "colab": {
          "base_uri": "https://localhost:8080/"
        },
        "id": "NC5CfwiQMWY5",
        "outputId": "a4e822c3-5fbf-4e47-8d6e-b1b3fcdf9dd9"
      },
      "outputs": [
        {
          "data": {
            "text/html": [
              "<div>\n",
              "<style scoped>\n",
              "    .dataframe tbody tr th:only-of-type {\n",
              "        vertical-align: middle;\n",
              "    }\n",
              "\n",
              "    .dataframe tbody tr th {\n",
              "        vertical-align: top;\n",
              "    }\n",
              "\n",
              "    .dataframe thead th {\n",
              "        text-align: right;\n",
              "    }\n",
              "</style>\n",
              "<table border=\"1\" class=\"dataframe\">\n",
              "  <thead>\n",
              "    <tr style=\"text-align: right;\">\n",
              "      <th></th>\n",
              "      <th>Survived</th>\n",
              "      <th>Age</th>\n",
              "      <th>Siblings/Spouses Aboard</th>\n",
              "      <th>Parents/Children Aboard</th>\n",
              "      <th>Fare</th>\n",
              "    </tr>\n",
              "  </thead>\n",
              "  <tbody>\n",
              "    <tr>\n",
              "      <th>count</th>\n",
              "      <td>874.000000</td>\n",
              "      <td>874.000000</td>\n",
              "      <td>874.000000</td>\n",
              "      <td>874.000000</td>\n",
              "      <td>874.000000</td>\n",
              "    </tr>\n",
              "    <tr>\n",
              "      <th>mean</th>\n",
              "      <td>0.384439</td>\n",
              "      <td>31.373192</td>\n",
              "      <td>0.466819</td>\n",
              "      <td>0.332952</td>\n",
              "      <td>10100.990512</td>\n",
              "    </tr>\n",
              "    <tr>\n",
              "      <th>std</th>\n",
              "      <td>0.486741</td>\n",
              "      <td>28.337683</td>\n",
              "      <td>1.136471</td>\n",
              "      <td>0.833238</td>\n",
              "      <td>80173.081798</td>\n",
              "    </tr>\n",
              "    <tr>\n",
              "      <th>min</th>\n",
              "      <td>0.000000</td>\n",
              "      <td>-56.000000</td>\n",
              "      <td>-8.000000</td>\n",
              "      <td>-5.000000</td>\n",
              "      <td>0.000000</td>\n",
              "    </tr>\n",
              "    <tr>\n",
              "      <th>25%</th>\n",
              "      <td>0.000000</td>\n",
              "      <td>20.000000</td>\n",
              "      <td>0.000000</td>\n",
              "      <td>0.000000</td>\n",
              "      <td>7.925000</td>\n",
              "    </tr>\n",
              "    <tr>\n",
              "      <th>50%</th>\n",
              "      <td>0.000000</td>\n",
              "      <td>28.000000</td>\n",
              "      <td>0.000000</td>\n",
              "      <td>0.000000</td>\n",
              "      <td>14.500000</td>\n",
              "    </tr>\n",
              "    <tr>\n",
              "      <th>75%</th>\n",
              "      <td>1.000000</td>\n",
              "      <td>38.000000</td>\n",
              "      <td>1.000000</td>\n",
              "      <td>0.000000</td>\n",
              "      <td>31.387500</td>\n",
              "    </tr>\n",
              "    <tr>\n",
              "      <th>max</th>\n",
              "      <td>1.000000</td>\n",
              "      <td>240.000000</td>\n",
              "      <td>8.000000</td>\n",
              "      <td>6.000000</td>\n",
              "      <td>800069.550000</td>\n",
              "    </tr>\n",
              "  </tbody>\n",
              "</table>\n",
              "</div>"
            ],
            "text/plain": [
              "         Survived         Age  Siblings/Spouses Aboard  \\\n",
              "count  874.000000  874.000000               874.000000   \n",
              "mean     0.384439   31.373192                 0.466819   \n",
              "std      0.486741   28.337683                 1.136471   \n",
              "min      0.000000  -56.000000                -8.000000   \n",
              "25%      0.000000   20.000000                 0.000000   \n",
              "50%      0.000000   28.000000                 0.000000   \n",
              "75%      1.000000   38.000000                 1.000000   \n",
              "max      1.000000  240.000000                 8.000000   \n",
              "\n",
              "       Parents/Children Aboard           Fare  \n",
              "count               874.000000     874.000000  \n",
              "mean                  0.332952   10100.990512  \n",
              "std                   0.833238   80173.081798  \n",
              "min                  -5.000000       0.000000  \n",
              "25%                   0.000000       7.925000  \n",
              "50%                   0.000000      14.500000  \n",
              "75%                   0.000000      31.387500  \n",
              "max                   6.000000  800069.550000  "
            ]
          },
          "execution_count": 8,
          "metadata": {},
          "output_type": "execute_result"
        }
      ],
      "source": [
        "df1 = df.dropna()\n",
        "df1.describe()"
      ]
    },
    {
      "cell_type": "markdown",
      "metadata": {
        "id": "R5ZelS7QMWY6"
      },
      "source": [
        "Checking the survival rate for passengers on board the titanic"
      ]
    },
    {
      "cell_type": "code",
      "execution_count": 37,
      "metadata": {
        "colab": {
          "base_uri": "https://localhost:8080/",
          "height": 305
        },
        "id": "Ph3ehqNgMWY8",
        "outputId": "b29bb245-c585-46c9-95e6-107eb54623d5"
      },
      "outputs": [
        {
          "data": {
            "image/png": "[encoded data removed]",
            "text/plain": [
              "<Figure size 432x288 with 1 Axes>"
            ]
          },
          "metadata": {},
          "output_type": "display_data"
        },
        {
          "name": "stdout",
          "output_type": "stream",
          "text": [
            "0    538\n",
            "1    336\n",
            "Name: Survived, dtype: int64\n"
          ]
        }
      ],
      "source": [
        "survivedDead = df1['Survived'].value_counts().plot(kind='bar')\n",
        "survivedDead.set_xticklabels(['Deceased', 'Survived'])\n",
        "survivedDead.set(ylabel = 'Passenger count')\n",
        "plt.show()\n",
        "\n",
        "genSurvivalRate = df1['Survived'].value_counts()\n",
        "print(genSurvivalRate)\n",
        "\n",
        "# Here 0 represents deceased and 1 represents survived."
      ]
    },
    {
      "cell_type": "markdown",
      "metadata": {},
      "source": [
        "From the initial bar chart, we can see that there's only a 38% survival rate on board the titanic. "
      ]
    },
    {
      "cell_type": "markdown",
      "metadata": {
        "id": "8LrmjEUwMWY9"
      },
      "source": [
        "Comparison of survival rate based on sex"
      ]
    },
    {
      "cell_type": "markdown",
      "metadata": {
        "id": "UgDiN5vhMWY-"
      },
      "source": [
        "Male survival rate"
      ]
    },
    {
      "cell_type": "code",
      "execution_count": 10,
      "metadata": {
        "colab": {
          "base_uri": "https://localhost:8080/",
          "height": 305
        },
        "id": "4xFVX6H1MWY_",
        "outputId": "4b18be64-a2d3-48d8-9d3a-c9ee3cb57826"
      },
      "outputs": [
        {
          "data": {
            "image/png": "[encoded data removed]",
            "text/plain": [
              "<Figure size 432x288 with 1 Axes>"
            ]
          },
          "metadata": {},
          "output_type": "display_data"
        }
      ],
      "source": [
        "# Can now make checks to see the number of men and women who survived and their percentage survival rate\n",
        "maleSurvDead = df1[df1['Sex']=='male']['Survived'].value_counts().plot(kind='bar')\n",
        "maleSurvDead.set_xticklabels(['Deceased', 'Survived'])\n",
        "maleSurvDead.set(ylabel = 'Passenger Count')\n",
        "plt.show()"
      ]
    },
    {
      "cell_type": "code",
      "execution_count": 11,
      "metadata": {
        "colab": {
          "base_uri": "https://localhost:8080/"
        },
        "id": "7Wdgg0YMMWY_",
        "outputId": "8457aa7a-9ff1-4731-b24d-1db913e3e0a6"
      },
      "outputs": [
        {
          "data": {
            "text/plain": [
              "0    0.810619\n",
              "1    0.189381\n",
              "Name: Survived, dtype: float64"
            ]
          },
          "execution_count": 11,
          "metadata": {},
          "output_type": "execute_result"
        }
      ],
      "source": [
        "# Showing the survival rate of men on the titanic\n",
        "df1[df1['Sex']=='male']['Survived'].value_counts() / df1[df1['Sex']=='male']['Survived'].value_counts().sum()\n"
      ]
    },
    {
      "cell_type": "markdown",
      "metadata": {},
      "source": [
        "When comparing the survival rate for men on the titanic, men only had an 18.9% chance of survival."
      ]
    },
    {
      "cell_type": "markdown",
      "metadata": {
        "id": "dj-MOt6QMWZA"
      },
      "source": [
        "Female survival rate"
      ]
    },
    {
      "cell_type": "code",
      "execution_count": 38,
      "metadata": {
        "colab": {
          "base_uri": "https://localhost:8080/",
          "height": 305
        },
        "id": "UD9h_cqaMWZA",
        "outputId": "9927a7c0-e6e9-40b3-91f8-7f28b517237a"
      },
      "outputs": [
        {
          "data": {
            "image/png": "[encoded data removed]",
            "text/plain": [
              "<Figure size 432x288 with 1 Axes>"
            ]
          },
          "metadata": {},
          "output_type": "display_data"
        }
      ],
      "source": [
        "femaleSurvDead = df1[df1['Sex']=='female']['Survived'].value_counts().plot(kind='bar')\n",
        "femaleSurvDead.set_xticklabels(['Survived', 'Deceased'])\n",
        "femaleSurvDead.set(ylabel = 'Passenger Count')\n",
        "plt.show()"
      ]
    },
    {
      "cell_type": "code",
      "execution_count": 13,
      "metadata": {
        "colab": {
          "base_uri": "https://localhost:8080/"
        },
        "id": "4q86ieapMWZB",
        "outputId": "06feeaf0-0ff3-4b58-ce8a-418d7b0f4239"
      },
      "outputs": [
        {
          "data": {
            "text/plain": [
              "1    0.7411\n",
              "0    0.2589\n",
              "Name: Survived, dtype: float64"
            ]
          },
          "execution_count": 13,
          "metadata": {},
          "output_type": "execute_result"
        }
      ],
      "source": [
        "# Showing the survival rate of women on the titanic\n",
        "df1[df1['Sex']=='female']['Survived'].value_counts() / df1[df1['Sex']=='female']['Survived'].value_counts().sum()"
      ]
    },
    {
      "cell_type": "markdown",
      "metadata": {},
      "source": [
        "In comparison to the male survival rate of 18.9%, women travelling on the Titanic had a 74% chance of survival."
      ]
    },
    {
      "cell_type": "markdown",
      "metadata": {
        "id": "fIgfNLYGMWZB"
      },
      "source": [
        "Correlation between men and women and their survival rate"
      ]
    },
    {
      "cell_type": "code",
      "execution_count": 14,
      "metadata": {
        "colab": {
          "base_uri": "https://localhost:8080/"
        },
        "id": "snfGMCxFMWZC",
        "outputId": "24ce4d3a-e000-4581-afa5-781845bccb5a"
      },
      "outputs": [
        {
          "data": {
            "text/plain": [
              "female    0.542202\n",
              "male     -0.542202\n",
              "dtype: float64"
            ]
          },
          "execution_count": 14,
          "metadata": {},
          "output_type": "execute_result"
        }
      ],
      "source": [
        "# Correlation between men and women and their survival rate\n",
        "df1['Sex'].str.get_dummies().corrwith(df1['Survived']/df1['Survived'].max())"
      ]
    },
    {
      "cell_type": "markdown",
      "metadata": {},
      "source": [
        "Correlation between sex and survival rate show a positive correlation for women and survival (meaning that females were more likely to survive) compared to males."
      ]
    },
    {
      "cell_type": "markdown",
      "metadata": {
        "id": "O0JPkxJTMWZC"
      },
      "source": [
        "Cleaning the passenger class column to group classes into 3 values (Passenger class 1, 2 and 3)"
      ]
    },
    {
      "cell_type": "code",
      "execution_count": 15,
      "metadata": {
        "colab": {
          "base_uri": "https://localhost:8080/"
        },
        "id": "XfGrSEAgMWZD",
        "outputId": "7d03846a-4b7f-4c29-b0d0-fd340d73365d"
      },
      "outputs": [
        {
          "name": "stderr",
          "output_type": "stream",
          "text": [
            "c:\\Users\\nzs52\\AppData\\Local\\Programs\\Python\\Python36\\lib\\site-packages\\pandas\\core\\generic.py:5890: SettingWithCopyWarning: \n",
            "A value is trying to be set on a copy of a slice from a DataFrame\n",
            "\n",
            "See the caveats in the documentation: http://pandas.pydata.org/pandas-docs/stable/indexing.html#indexing-view-versus-copy\n",
            "  self._update_inplace(new_data)\n"
          ]
        },
        {
          "data": {
            "text/plain": [
              "3    479\n",
              "1    213\n",
              "2    182\n",
              "Name: Pclass, dtype: int64"
            ]
          },
          "execution_count": 15,
          "metadata": {},
          "output_type": "execute_result"
        }
      ],
      "source": [
        "# Fix the pc class since there are many different representations for each passenger class. We can combine them into 3 different categories, class 1, 2 and 3\n",
        "#df1['Pclass'].value_counts()\n",
        "\n",
        "df1['Pclass'].replace(to_replace = '3 pclass',value = '3', inplace= True)\n",
        "df1['Pclass'].replace(to_replace = '2 pclass',value = '2', inplace= True)\n",
        "df1['Pclass'].replace(to_replace = '1 pclass',value = '1', inplace= True)\n",
        "df1['Pclass'].replace(to_replace = '3-pclass',value = '3', inplace= True)\n",
        "df1['Pclass'].replace(to_replace = '2-pclass',value = '2', inplace= True)\n",
        "df1['Pclass'].replace(to_replace = '1-pclass',value = '1', inplace= True)\n",
        "df1['Pclass'].replace(to_replace = '3-pclas',value = '3', inplace= True)\n",
        "df1['Pclass'].replace(to_replace = '3-pcla',value = '3', inplace= True)\n",
        "df1['Pclass'].replace(to_replace = '3 pclas',value = '3', inplace= True)\n",
        "df1['Pclass'].replace(to_replace = '3-pcl',value = '3', inplace= True)\n",
        "df1['Pclass'].replace(to_replace = '3 pcla',value = '3', inplace= True)\n",
        "df1['Pclass'].replace(to_replace = '1-pclas',value = '1', inplace= True)\n",
        "df1['Pclass'].replace(to_replace = '2 pclas',value = '2', inplace= True)\n",
        "df1['Pclass'].replace(to_replace = '1-pcla',value = '1', inplace= True)\n",
        "df1['Pclass'].replace(to_replace = '1 pcla',value = '1', inplace= True)\n",
        "df1['Pclass'].replace(to_replace = '2-pcla',value = '2', inplace= True)\n",
        "df1['Pclass'].replace(to_replace = '2 pcla',value = '2', inplace= True)\n",
        "df1['Pclass'].replace(to_replace = '1 pclas',value = '1', inplace= True)\n",
        "df1['Pclass'].replace(to_replace = '2-pclas',value = '2', inplace= True)\n",
        "df1['Pclass'].replace(to_replace = '1-pcl',value = '1', inplace= True)\n",
        "df1['Pclass'].replace(to_replace = '1 pcl',value = '1', inplace= True)\n",
        "df1['Pclass'].replace(to_replace = '3 pcl',value = '3', inplace= True)\n",
        "\n",
        "\n",
        "df1['Pclass'].value_counts()\n"
      ]
    },
    {
      "cell_type": "code",
      "execution_count": 16,
      "metadata": {
        "colab": {
          "base_uri": "https://localhost:8080/",
          "height": 175
        },
        "id": "JlholZjoMWZE",
        "outputId": "51cb4a21-ed47-4a7c-abc5-2818581eb8ab"
      },
      "outputs": [
        {
          "data": {
            "text/html": [
              "<div>\n",
              "<style scoped>\n",
              "    .dataframe tbody tr th:only-of-type {\n",
              "        vertical-align: middle;\n",
              "    }\n",
              "\n",
              "    .dataframe tbody tr th {\n",
              "        vertical-align: top;\n",
              "    }\n",
              "\n",
              "    .dataframe thead th {\n",
              "        text-align: right;\n",
              "    }\n",
              "</style>\n",
              "<table border=\"1\" class=\"dataframe\">\n",
              "  <thead>\n",
              "    <tr style=\"text-align: right;\">\n",
              "      <th></th>\n",
              "      <th>Survived</th>\n",
              "    </tr>\n",
              "    <tr>\n",
              "      <th>Pclass</th>\n",
              "      <th></th>\n",
              "    </tr>\n",
              "  </thead>\n",
              "  <tbody>\n",
              "    <tr>\n",
              "      <th>1</th>\n",
              "      <td>62.9</td>\n",
              "    </tr>\n",
              "    <tr>\n",
              "      <th>2</th>\n",
              "      <td>47.3</td>\n",
              "    </tr>\n",
              "    <tr>\n",
              "      <th>3</th>\n",
              "      <td>24.2</td>\n",
              "    </tr>\n",
              "  </tbody>\n",
              "</table>\n",
              "</div>"
            ],
            "text/plain": [
              "        Survived\n",
              "Pclass          \n",
              "1           62.9\n",
              "2           47.3\n",
              "3           24.2"
            ]
          },
          "execution_count": 16,
          "metadata": {},
          "output_type": "execute_result"
        }
      ],
      "source": [
        "round(df1[['Pclass','Survived']].groupby(['Pclass']).mean()*100,1)"
      ]
    },
    {
      "cell_type": "markdown",
      "metadata": {},
      "source": [
        "From looking at the survival rate for passengers based on their passenger class we can see that survival chances reduce as the passengers travel in lower classes."
      ]
    },
    {
      "cell_type": "code",
      "execution_count": 39,
      "metadata": {},
      "outputs": [
        {
          "data": {
            "text/plain": [
              "1    0.285508\n",
              "2    0.092865\n",
              "3   -0.322053\n",
              "dtype: float64"
            ]
          },
          "execution_count": 39,
          "metadata": {},
          "output_type": "execute_result"
        }
      ],
      "source": [
        "# Showing the correlation between the passenger class and likelihood of survival\n",
        "df1['Pclass'].str.get_dummies().corrwith(df1['Survived']/df1['Survived'].max())"
      ]
    },
    {
      "cell_type": "markdown",
      "metadata": {},
      "source": [
        "Correlation between passenger class and survival show a positive correlation for survival for passengers travelling on the first class and a negative correlation for passengers travelling on the third class."
      ]
    },
    {
      "cell_type": "code",
      "execution_count": 17,
      "metadata": {
        "colab": {
          "base_uri": "https://localhost:8080/",
          "height": 269
        },
        "id": "fTw0YX4bMWZE",
        "outputId": "6ad633fa-cea9-4fc6-b6b8-1ba8042bf6a1"
      },
      "outputs": [
        {
          "data": {
            "text/html": [
              "<div>\n",
              "<style scoped>\n",
              "    .dataframe tbody tr th:only-of-type {\n",
              "        vertical-align: middle;\n",
              "    }\n",
              "\n",
              "    .dataframe tbody tr th {\n",
              "        vertical-align: top;\n",
              "    }\n",
              "\n",
              "    .dataframe thead th {\n",
              "        text-align: right;\n",
              "    }\n",
              "</style>\n",
              "<table border=\"1\" class=\"dataframe\">\n",
              "  <thead>\n",
              "    <tr style=\"text-align: right;\">\n",
              "      <th></th>\n",
              "      <th></th>\n",
              "      <th>Survived</th>\n",
              "    </tr>\n",
              "    <tr>\n",
              "      <th>Pclass</th>\n",
              "      <th>Sex</th>\n",
              "      <th></th>\n",
              "    </tr>\n",
              "  </thead>\n",
              "  <tbody>\n",
              "    <tr>\n",
              "      <th rowspan=\"2\" valign=\"top\">1</th>\n",
              "      <th>female</th>\n",
              "      <td>97.8</td>\n",
              "    </tr>\n",
              "    <tr>\n",
              "      <th>male</th>\n",
              "      <td>36.9</td>\n",
              "    </tr>\n",
              "    <tr>\n",
              "      <th rowspan=\"2\" valign=\"top\">2</th>\n",
              "      <th>female</th>\n",
              "      <td>92.0</td>\n",
              "    </tr>\n",
              "    <tr>\n",
              "      <th>male</th>\n",
              "      <td>15.9</td>\n",
              "    </tr>\n",
              "    <tr>\n",
              "      <th rowspan=\"2\" valign=\"top\">3</th>\n",
              "      <th>female</th>\n",
              "      <td>49.7</td>\n",
              "    </tr>\n",
              "    <tr>\n",
              "      <th>male</th>\n",
              "      <td>13.4</td>\n",
              "    </tr>\n",
              "  </tbody>\n",
              "</table>\n",
              "</div>"
            ],
            "text/plain": [
              "               Survived\n",
              "Pclass Sex             \n",
              "1      female      97.8\n",
              "       male        36.9\n",
              "2      female      92.0\n",
              "       male        15.9\n",
              "3      female      49.7\n",
              "       male        13.4"
            ]
          },
          "execution_count": 17,
          "metadata": {},
          "output_type": "execute_result"
        }
      ],
      "source": [
        "round(df1[['Sex','Pclass','Survived']].groupby(['Pclass', 'Sex']).mean()*100,1)"
      ]
    },
    {
      "cell_type": "markdown",
      "metadata": {
        "id": "Zi1skMKeMWZF"
      },
      "source": [
        "Survival chart and rates for first class passengers "
      ]
    },
    {
      "cell_type": "code",
      "execution_count": 40,
      "metadata": {
        "colab": {
          "base_uri": "https://localhost:8080/",
          "height": 308
        },
        "id": "9iqJVkUpMWZF",
        "outputId": "928f8aec-5e88-4adb-9ba1-f0d50b7d7df3"
      },
      "outputs": [
        {
          "data": {
            "image/png": "[encoded data removed]",
            "text/plain": [
              "<Figure size 432x288 with 1 Axes>"
            ]
          },
          "metadata": {},
          "output_type": "display_data"
        }
      ],
      "source": [
        "# Showing the survival bar chart for passengers in first class\n",
        "\n",
        "first = df1[df1['Pclass']=='1']['Survived'].value_counts().plot(kind='bar')\n",
        "first.set_xticklabels(['Survived', 'Deceased'])\n",
        "first.set(ylabel = 'Passenger Count')\n",
        "plt.show()"
      ]
    },
    {
      "cell_type": "code",
      "execution_count": 19,
      "metadata": {
        "colab": {
          "base_uri": "https://localhost:8080/"
        },
        "id": "MMyQsliQMWZF",
        "outputId": "337bbe1c-6588-4c07-da7c-cb7164a62527"
      },
      "outputs": [
        {
          "data": {
            "text/plain": [
              "1    0.629108\n",
              "0    0.370892\n",
              "Name: Survived, dtype: float64"
            ]
          },
          "execution_count": 19,
          "metadata": {},
          "output_type": "execute_result"
        }
      ],
      "source": [
        "# Showing the survival rate percentages for first class\n",
        "df1[df1['Pclass']=='1']['Survived'].value_counts() / df1[df1['Pclass']=='1']['Survived'].value_counts().sum()"
      ]
    },
    {
      "cell_type": "markdown",
      "metadata": {},
      "source": [
        "Passengers were more likely to survive than not if they were travelling on first class. "
      ]
    },
    {
      "cell_type": "markdown",
      "metadata": {
        "id": "eCYdJeaYMWZG"
      },
      "source": [
        "Survival rate of men who travelled first class"
      ]
    },
    {
      "cell_type": "code",
      "execution_count": 20,
      "metadata": {
        "colab": {
          "base_uri": "https://localhost:8080/"
        },
        "id": "7M9VAg0GMWZG",
        "outputId": "6fd171ce-e0e7-42b3-de7c-8a20d693f366"
      },
      "outputs": [
        {
          "data": {
            "text/plain": [
              "0    0.631148\n",
              "1    0.368852\n",
              "Name: Survived, dtype: float64"
            ]
          },
          "execution_count": 20,
          "metadata": {},
          "output_type": "execute_result"
        }
      ],
      "source": [
        "# Showing the relationship between men and the survival rate based on the first passenger class\n",
        "df1[(df1['Pclass']=='1') & (df1['Sex']=='male')]['Survived'].value_counts() / df1[(df1['Pclass']=='1') & (df1['Sex']=='male')]['Survived'].value_counts().sum()"
      ]
    },
    {
      "cell_type": "markdown",
      "metadata": {},
      "source": [
        "Even though passengers were more likely to survive if they travelled first class, males travelling on first class only had a 36.9% chance of survival"
      ]
    },
    {
      "cell_type": "markdown",
      "metadata": {
        "id": "_GBdJUvxMWZG"
      },
      "source": [
        "Survival rate of women who travelled first class"
      ]
    },
    {
      "cell_type": "code",
      "execution_count": 21,
      "metadata": {
        "colab": {
          "base_uri": "https://localhost:8080/"
        },
        "id": "3Q80cO6lMWZH",
        "outputId": "c94bcd82-b81f-4c75-f8ec-1831d8c0b13c"
      },
      "outputs": [
        {
          "data": {
            "text/plain": [
              "1    0.978022\n",
              "0    0.021978\n",
              "Name: Survived, dtype: float64"
            ]
          },
          "execution_count": 21,
          "metadata": {},
          "output_type": "execute_result"
        }
      ],
      "source": [
        "# Showing the relationship between women and the survival rate based on the first passenger class\n",
        "df1[(df1['Pclass']=='1') & (df1['Sex']=='female')]['Survived'].value_counts() / df1[(df1['Pclass']=='1') & (df1['Sex']=='female')]['Survived'].value_counts().sum()"
      ]
    },
    {
      "cell_type": "markdown",
      "metadata": {},
      "source": [
        "Whereas, women travelling on first class were almost guaranteed survival with a 97.8% survival rate."
      ]
    },
    {
      "cell_type": "markdown",
      "metadata": {
        "id": "Weqz-5kJMWZH"
      },
      "source": [
        "Survival rates and chart of passengers who travelled in the second class"
      ]
    },
    {
      "cell_type": "code",
      "execution_count": 22,
      "metadata": {
        "colab": {
          "base_uri": "https://localhost:8080/",
          "height": 307
        },
        "id": "krcAMhgOMWZH",
        "outputId": "f9566b82-82b1-4f89-b88e-990671048c7d"
      },
      "outputs": [
        {
          "data": {
            "image/png": "[encoded data removed]",
            "text/plain": [
              "<Figure size 432x288 with 1 Axes>"
            ]
          },
          "metadata": {},
          "output_type": "display_data"
        }
      ],
      "source": [
        "# Showing the survival bar chart for passengers in the second passenger class\n",
        "\n",
        "second = df1[df1['Pclass']=='2']['Survived'].value_counts().plot(kind='bar')\n",
        "second.set_xticklabels(['Deceased', 'Survived'])\n",
        "second.set(ylabel = 'Passenger Count')\n",
        "plt.show()"
      ]
    },
    {
      "cell_type": "code",
      "execution_count": 23,
      "metadata": {
        "colab": {
          "base_uri": "https://localhost:8080/"
        },
        "id": "rLES3yDaMWZH",
        "outputId": "64eb5f72-8ed0-4149-d74a-e3418aaf7805"
      },
      "outputs": [
        {
          "data": {
            "text/plain": [
              "0    0.527473\n",
              "1    0.472527\n",
              "Name: Survived, dtype: float64"
            ]
          },
          "execution_count": 23,
          "metadata": {},
          "output_type": "execute_result"
        }
      ],
      "source": [
        "# Showing the survival rate percentages for second passenger class\n",
        "df1[df1['Pclass']=='2']['Survived'].value_counts() / df1[df1['Pclass']=='2']['Survived'].value_counts().sum()"
      ]
    },
    {
      "cell_type": "markdown",
      "metadata": {
        "id": "LPVB3asyMWZI"
      },
      "source": [
        "Male survival rate who travelled in the second passenger class"
      ]
    },
    {
      "cell_type": "code",
      "execution_count": 24,
      "metadata": {
        "colab": {
          "base_uri": "https://localhost:8080/"
        },
        "id": "k1_b9mfNMWZI",
        "outputId": "18e87960-2686-41e3-924c-295f61a6fc81"
      },
      "outputs": [
        {
          "data": {
            "text/plain": [
              "0    0.841121\n",
              "1    0.158879\n",
              "Name: Survived, dtype: float64"
            ]
          },
          "execution_count": 24,
          "metadata": {},
          "output_type": "execute_result"
        }
      ],
      "source": [
        "# Showing the relationship between men and the survival rate based on the second passenger class\n",
        "df1[(df1['Pclass']=='2') & (df1['Sex']=='male')]['Survived'].value_counts() / df1[(df1['Pclass']=='2') & (df1['Sex']=='male')]['Survived'].value_counts().sum()"
      ]
    },
    {
      "cell_type": "markdown",
      "metadata": {},
      "source": [
        "Compared to first class, men were half as likely to survive if they travelled second class as compared to travelling in first class."
      ]
    },
    {
      "cell_type": "markdown",
      "metadata": {
        "id": "GGMIq0wLMWZI"
      },
      "source": [
        "Female survival rate who travelled in the second passenger class"
      ]
    },
    {
      "cell_type": "code",
      "execution_count": 25,
      "metadata": {
        "colab": {
          "base_uri": "https://localhost:8080/"
        },
        "id": "O4xiSvdUMWZI",
        "outputId": "92deff0e-2328-47b9-af03-6856392d4808"
      },
      "outputs": [
        {
          "data": {
            "text/plain": [
              "1    0.92\n",
              "0    0.08\n",
              "Name: Survived, dtype: float64"
            ]
          },
          "execution_count": 25,
          "metadata": {},
          "output_type": "execute_result"
        }
      ],
      "source": [
        "# Showing the relationship between women and the survival rate based on the second passenger class\n",
        "df1[(df1['Pclass']=='2') & (df1['Sex']=='female')]['Survived'].value_counts() / df1[(df1['Pclass']=='2') & (df1['Sex']=='female')]['Survived'].value_counts().sum()"
      ]
    },
    {
      "cell_type": "markdown",
      "metadata": {
        "id": "VXVAwkKeMWZJ"
      },
      "source": [
        "Survival chart and rates of passnengers who travelled in the third class of the titanic"
      ]
    },
    {
      "cell_type": "code",
      "execution_count": 26,
      "metadata": {
        "colab": {
          "base_uri": "https://localhost:8080/",
          "height": 305
        },
        "id": "hfX2z7vWMWZJ",
        "outputId": "dff4e7a4-4ae4-4cd5-ce94-53b06b0c9e6a"
      },
      "outputs": [
        {
          "data": {
            "image/png": "[encoded data removed]",
            "text/plain": [
              "<Figure size 432x288 with 1 Axes>"
            ]
          },
          "metadata": {},
          "output_type": "display_data"
        }
      ],
      "source": [
        "# Showing the survival rate for the passengers in the third passenger class\n",
        "\n",
        "third = df1[df1['Pclass']=='3']['Survived'].value_counts().plot(kind='bar')\n",
        "third.set_xticklabels(['Deceased', 'Survived'])\n",
        "third.set(ylabel = 'Passenger Count')\n",
        "plt.show()"
      ]
    },
    {
      "cell_type": "code",
      "execution_count": 27,
      "metadata": {
        "colab": {
          "base_uri": "https://localhost:8080/"
        },
        "id": "dYWRw6tjMWZJ",
        "outputId": "25fa6d89-a91b-4dc4-8216-f52c9846eed3"
      },
      "outputs": [
        {
          "data": {
            "text/plain": [
              "0    0.757829\n",
              "1    0.242171\n",
              "Name: Survived, dtype: float64"
            ]
          },
          "execution_count": 27,
          "metadata": {},
          "output_type": "execute_result"
        }
      ],
      "source": [
        "# Showing the survival rate percentages for the third passenger class\n",
        "df1[df1['Pclass']=='3']['Survived'].value_counts() / df1[df1['Pclass']=='3']['Survived'].value_counts().sum()"
      ]
    },
    {
      "cell_type": "markdown",
      "metadata": {
        "id": "lKKTPMz3MWZK"
      },
      "source": [
        "Male survival rate on the third passenger class"
      ]
    },
    {
      "cell_type": "code",
      "execution_count": 28,
      "metadata": {
        "colab": {
          "base_uri": "https://localhost:8080/"
        },
        "id": "MuJaIA1RMWZK",
        "outputId": "882523a1-d4a5-4dd3-fcf2-6d338d4cdf0b"
      },
      "outputs": [
        {
          "data": {
            "text/plain": [
              "0    0.866071\n",
              "1    0.133929\n",
              "Name: Survived, dtype: float64"
            ]
          },
          "execution_count": 28,
          "metadata": {},
          "output_type": "execute_result"
        }
      ],
      "source": [
        "# Showing the relationship between men and the survival rate based on the third passenger class\n",
        "df1[(df1['Pclass']=='3') & (df1['Sex']=='male')]['Survived'].value_counts() / df1[(df1['Pclass']=='3') & (df1['Sex']=='male')]['Survived'].value_counts().sum()"
      ]
    },
    {
      "cell_type": "markdown",
      "metadata": {
        "id": "n-9Oaz7MMWZK"
      },
      "source": [
        "Female survival rate on the third passenger class"
      ]
    },
    {
      "cell_type": "code",
      "execution_count": 29,
      "metadata": {
        "colab": {
          "base_uri": "https://localhost:8080/"
        },
        "id": "q4GOMGqgMWZK",
        "outputId": "72963748-e024-455a-d234-2f912df09c85"
      },
      "outputs": [
        {
          "data": {
            "text/plain": [
              "0    0.503497\n",
              "1    0.496503\n",
              "Name: Survived, dtype: float64"
            ]
          },
          "execution_count": 29,
          "metadata": {},
          "output_type": "execute_result"
        }
      ],
      "source": [
        "# Showing the relationship between women and the survival rate based on the third passenger class\n",
        "df1[(df1['Pclass']=='3') & (df1['Sex']=='female')]['Survived'].value_counts() / df1[(df1['Pclass']=='3') & (df1['Sex']=='female')]['Survived'].value_counts().sum()"
      ]
    },
    {
      "cell_type": "markdown",
      "metadata": {},
      "source": [
        "After analysing the passenger class and sex and their impact on survival we can see that males had the best chance of survival when travelling first class (36.9%) but for females, travelling in first class or second class had a survival rate of over 90%."
      ]
    },
    {
      "cell_type": "markdown",
      "metadata": {
        "id": "KIhcGYH9MWZL"
      },
      "source": [
        "Age"
      ]
    },
    {
      "cell_type": "code",
      "execution_count": 30,
      "metadata": {
        "colab": {
          "base_uri": "https://localhost:8080/",
          "height": 380
        },
        "id": "kOJH57dVMWZL",
        "outputId": "a007a80e-e70b-4352-f884-f7154b1a1cad"
      },
      "outputs": [
        {
          "data": {
            "image/png": "[encoded data removed]",
            "text/plain": [
              "<Figure size 432x288 with 1 Axes>"
            ]
          },
          "metadata": {},
          "output_type": "display_data"
        },
        {
          "name": "stdout",
          "output_type": "stream",
          "text": [
            "Over age 60 survival rate:\n",
            "0    0.774194\n",
            "1    0.225806\n",
            "Name: Survived, dtype: float64\n"
          ]
        }
      ],
      "source": [
        "overSixty = df1[(df1['Age']>59)&(df1['Age']<101)]['Survived'].value_counts() / df1[(df1['Age']>59)&(df1['Age']<101)]['Survived'].value_counts().sum()\n",
        "\n",
        "ovSixty = df1[(df1['Age']>59)&(df1['Age']<101)]['Survived'].value_counts().plot(kind='bar')\n",
        "ovSixty.set_xticklabels(['Deceased', 'Survived'])\n",
        "ovSixty.set(ylabel = 'Passenger Count')\n",
        "plt.show()\n",
        "\n",
        "\n",
        "print('Over age 60 survival rate:')\n",
        "print(overSixty)\n",
        "\n"
      ]
    },
    {
      "cell_type": "code",
      "execution_count": 31,
      "metadata": {
        "colab": {
          "base_uri": "https://localhost:8080/",
          "height": 378
        },
        "id": "9zWOMT2UjXvm",
        "outputId": "f58e1fa4-a055-426c-97da-522acd3c20ef"
      },
      "outputs": [
        {
          "data": {
            "image/png": "[encoded data removed]",
            "text/plain": [
              "<Figure size 432x288 with 1 Axes>"
            ]
          },
          "metadata": {},
          "output_type": "display_data"
        },
        {
          "name": "stdout",
          "output_type": "stream",
          "text": [
            "40 to 60 survival rate:\n",
            "0    0.606061\n",
            "1    0.393939\n",
            "Name: Survived, dtype: float64\n"
          ]
        }
      ],
      "source": [
        "fourtyToSixty = df1[(df1['Age']>=40)&(df1['Age']<61) ]['Survived'].value_counts() / df1[(df1['Age']>=40)&(df1['Age']<61)]['Survived'].value_counts().sum()\n",
        "\n",
        "fourtToSixty = df1[(df1['Age']>=40)&(df1['Age']<61) ]['Survived'].value_counts().plot(kind='bar')\n",
        "fourtToSixty.set_xticklabels(['Deceased', 'Survived'])\n",
        "fourtToSixty.set(ylabel = 'Passenger Count')\n",
        "plt.show()\n",
        "\n",
        "print('40 to 60 survival rate:')\n",
        "print(fourtyToSixty)"
      ]
    },
    {
      "cell_type": "code",
      "execution_count": 32,
      "metadata": {
        "colab": {
          "base_uri": "https://localhost:8080/",
          "height": 378
        },
        "id": "t9MNpOZNjXmN",
        "outputId": "cd9eaf67-89d1-48ea-bc9e-767758be4c9e"
      },
      "outputs": [
        {
          "data": {
            "image/png": "[encoded data removed]",
            "text/plain": [
              "<Figure size 432x288 with 1 Axes>"
            ]
          },
          "metadata": {},
          "output_type": "display_data"
        },
        {
          "name": "stdout",
          "output_type": "stream",
          "text": [
            "20 to 40 survival rate:\n",
            "0    0.627329\n",
            "1    0.372671\n",
            "Name: Survived, dtype: float64\n"
          ]
        }
      ],
      "source": [
        "twentyToFourty = df1[(df1['Age']>=20)&(df1['Age']<41) ]['Survived'].value_counts() / df1[(df1['Age']>=20)&(df1['Age']<41)]['Survived'].value_counts().sum()\n",
        "\n",
        "twentToFourty = df1[(df1['Age']>=20)&(df1['Age']<41) ]['Survived'].value_counts().plot(kind='bar')\n",
        "twentToFourty.set_xticklabels(['Deceased', 'Survived'])\n",
        "twentToFourty.set(ylabel = 'Passenger Count')\n",
        "plt.show()\n",
        "\n",
        "print('20 to 40 survival rate:')\n",
        "print(twentyToFourty)"
      ]
    },
    {
      "cell_type": "code",
      "execution_count": 33,
      "metadata": {
        "colab": {
          "base_uri": "https://localhost:8080/",
          "height": 378
        },
        "id": "gS9s3Lc5jXa8",
        "outputId": "69e478d8-d503-442d-8e37-aa941e312865"
      },
      "outputs": [
        {
          "data": {
            "image/png": "[encoded data removed]",
            "text/plain": [
              "<Figure size 432x288 with 1 Axes>"
            ]
          },
          "metadata": {},
          "output_type": "display_data"
        },
        {
          "name": "stdout",
          "output_type": "stream",
          "text": [
            "Under twenty survival rate:\n",
            "0    0.553846\n",
            "1    0.446154\n",
            "Name: Survived, dtype: float64\n"
          ]
        }
      ],
      "source": [
        "zeroToTwenty = df1[(df1['Age']>0)&(df1['Age']<20) ]['Survived'].value_counts() / df1[(df1['Age']>0)&(df1['Age']<20)]['Survived'].value_counts().sum()\n",
        "\n",
        "zeroTwenty = df1[(df1['Age']>0)&(df1['Age']<20) ]['Survived'].value_counts().plot(kind='bar')\n",
        "zeroTwenty.set_xticklabels(['Deceased', 'Survived'])\n",
        "zeroTwenty.set(ylabel = 'Passenger Count')\n",
        "plt.show()\n",
        "\n",
        "\n",
        "print('Under twenty survival rate:')\n",
        "print(zeroToTwenty)"
      ]
    },
    {
      "cell_type": "markdown",
      "metadata": {
        "id": "TD81mX-6MWZL"
      },
      "source": [
        "Age and passenger class and their correlation to survival rate"
      ]
    },
    {
      "cell_type": "code",
      "execution_count": 34,
      "metadata": {
        "colab": {
          "base_uri": "https://localhost:8080/",
          "height": 455
        },
        "id": "UO_a38irMWZL",
        "outputId": "1f41e0bb-871a-4658-e81c-119751b262f7"
      },
      "outputs": [
        {
          "data": {
            "text/html": [
              "<div>\n",
              "<style scoped>\n",
              "    .dataframe tbody tr th:only-of-type {\n",
              "        vertical-align: middle;\n",
              "    }\n",
              "\n",
              "    .dataframe tbody tr th {\n",
              "        vertical-align: top;\n",
              "    }\n",
              "\n",
              "    .dataframe thead th {\n",
              "        text-align: right;\n",
              "    }\n",
              "</style>\n",
              "<table border=\"1\" class=\"dataframe\">\n",
              "  <thead>\n",
              "    <tr style=\"text-align: right;\">\n",
              "      <th></th>\n",
              "      <th></th>\n",
              "      <th>Survived</th>\n",
              "    </tr>\n",
              "    <tr>\n",
              "      <th>Pclass</th>\n",
              "      <th>Age</th>\n",
              "      <th></th>\n",
              "    </tr>\n",
              "  </thead>\n",
              "  <tbody>\n",
              "    <tr>\n",
              "      <th rowspan=\"30\" valign=\"top\">1</th>\n",
              "      <th>-56.00</th>\n",
              "      <td>0.0</td>\n",
              "    </tr>\n",
              "    <tr>\n",
              "      <th>-46.00</th>\n",
              "      <td>100.0</td>\n",
              "    </tr>\n",
              "    <tr>\n",
              "      <th>-39.00</th>\n",
              "      <td>0.0</td>\n",
              "    </tr>\n",
              "    <tr>\n",
              "      <th>-36.00</th>\n",
              "      <td>100.0</td>\n",
              "    </tr>\n",
              "    <tr>\n",
              "      <th>-32.00</th>\n",
              "      <td>100.0</td>\n",
              "    </tr>\n",
              "    <tr>\n",
              "      <th>-2.00</th>\n",
              "      <td>0.0</td>\n",
              "    </tr>\n",
              "    <tr>\n",
              "      <th>0.92</th>\n",
              "      <td>100.0</td>\n",
              "    </tr>\n",
              "    <tr>\n",
              "      <th>4.00</th>\n",
              "      <td>100.0</td>\n",
              "    </tr>\n",
              "    <tr>\n",
              "      <th>11.00</th>\n",
              "      <td>100.0</td>\n",
              "    </tr>\n",
              "    <tr>\n",
              "      <th>14.00</th>\n",
              "      <td>100.0</td>\n",
              "    </tr>\n",
              "    <tr>\n",
              "      <th>15.00</th>\n",
              "      <td>100.0</td>\n",
              "    </tr>\n",
              "    <tr>\n",
              "      <th>16.00</th>\n",
              "      <td>100.0</td>\n",
              "    </tr>\n",
              "    <tr>\n",
              "      <th>17.00</th>\n",
              "      <td>100.0</td>\n",
              "    </tr>\n",
              "    <tr>\n",
              "      <th>18.00</th>\n",
              "      <td>75.0</td>\n",
              "    </tr>\n",
              "    <tr>\n",
              "      <th>19.00</th>\n",
              "      <td>60.0</td>\n",
              "    </tr>\n",
              "    <tr>\n",
              "      <th>21.00</th>\n",
              "      <td>66.7</td>\n",
              "    </tr>\n",
              "    <tr>\n",
              "      <th>22.00</th>\n",
              "      <td>80.0</td>\n",
              "    </tr>\n",
              "    <tr>\n",
              "      <th>23.00</th>\n",
              "      <td>100.0</td>\n",
              "    </tr>\n",
              "    <tr>\n",
              "      <th>24.00</th>\n",
              "      <td>71.4</td>\n",
              "    </tr>\n",
              "    <tr>\n",
              "      <th>25.00</th>\n",
              "      <td>100.0</td>\n",
              "    </tr>\n",
              "    <tr>\n",
              "      <th>26.00</th>\n",
              "      <td>100.0</td>\n",
              "    </tr>\n",
              "    <tr>\n",
              "      <th>27.00</th>\n",
              "      <td>75.0</td>\n",
              "    </tr>\n",
              "    <tr>\n",
              "      <th>28.00</th>\n",
              "      <td>40.0</td>\n",
              "    </tr>\n",
              "    <tr>\n",
              "      <th>29.00</th>\n",
              "      <td>50.0</td>\n",
              "    </tr>\n",
              "    <tr>\n",
              "      <th>30.00</th>\n",
              "      <td>71.4</td>\n",
              "    </tr>\n",
              "    <tr>\n",
              "      <th>31.00</th>\n",
              "      <td>60.0</td>\n",
              "    </tr>\n",
              "    <tr>\n",
              "      <th>32.00</th>\n",
              "      <td>100.0</td>\n",
              "    </tr>\n",
              "    <tr>\n",
              "      <th>33.00</th>\n",
              "      <td>75.0</td>\n",
              "    </tr>\n",
              "    <tr>\n",
              "      <th>34.00</th>\n",
              "      <td>100.0</td>\n",
              "    </tr>\n",
              "    <tr>\n",
              "      <th>35.00</th>\n",
              "      <td>100.0</td>\n",
              "    </tr>\n",
              "    <tr>\n",
              "      <th>...</th>\n",
              "      <th>...</th>\n",
              "      <td>...</td>\n",
              "    </tr>\n",
              "    <tr>\n",
              "      <th rowspan=\"30\" valign=\"top\">3</th>\n",
              "      <th>41.00</th>\n",
              "      <td>0.0</td>\n",
              "    </tr>\n",
              "    <tr>\n",
              "      <th>42.00</th>\n",
              "      <td>0.0</td>\n",
              "    </tr>\n",
              "    <tr>\n",
              "      <th>43.00</th>\n",
              "      <td>0.0</td>\n",
              "    </tr>\n",
              "    <tr>\n",
              "      <th>44.00</th>\n",
              "      <td>25.0</td>\n",
              "    </tr>\n",
              "    <tr>\n",
              "      <th>45.00</th>\n",
              "      <td>20.0</td>\n",
              "    </tr>\n",
              "    <tr>\n",
              "      <th>45.50</th>\n",
              "      <td>0.0</td>\n",
              "    </tr>\n",
              "    <tr>\n",
              "      <th>47.00</th>\n",
              "      <td>0.0</td>\n",
              "    </tr>\n",
              "    <tr>\n",
              "      <th>48.00</th>\n",
              "      <td>0.0</td>\n",
              "    </tr>\n",
              "    <tr>\n",
              "      <th>49.00</th>\n",
              "      <td>0.0</td>\n",
              "    </tr>\n",
              "    <tr>\n",
              "      <th>50.00</th>\n",
              "      <td>0.0</td>\n",
              "    </tr>\n",
              "    <tr>\n",
              "      <th>51.00</th>\n",
              "      <td>0.0</td>\n",
              "    </tr>\n",
              "    <tr>\n",
              "      <th>54.00</th>\n",
              "      <td>0.0</td>\n",
              "    </tr>\n",
              "    <tr>\n",
              "      <th>55.00</th>\n",
              "      <td>0.0</td>\n",
              "    </tr>\n",
              "    <tr>\n",
              "      <th>55.50</th>\n",
              "      <td>0.0</td>\n",
              "    </tr>\n",
              "    <tr>\n",
              "      <th>59.00</th>\n",
              "      <td>0.0</td>\n",
              "    </tr>\n",
              "    <tr>\n",
              "      <th>61.00</th>\n",
              "      <td>0.0</td>\n",
              "    </tr>\n",
              "    <tr>\n",
              "      <th>62.00</th>\n",
              "      <td>0.0</td>\n",
              "    </tr>\n",
              "    <tr>\n",
              "      <th>63.00</th>\n",
              "      <td>100.0</td>\n",
              "    </tr>\n",
              "    <tr>\n",
              "      <th>65.00</th>\n",
              "      <td>0.0</td>\n",
              "    </tr>\n",
              "    <tr>\n",
              "      <th>66.00</th>\n",
              "      <td>0.0</td>\n",
              "    </tr>\n",
              "    <tr>\n",
              "      <th>69.00</th>\n",
              "      <td>0.0</td>\n",
              "    </tr>\n",
              "    <tr>\n",
              "      <th>70.50</th>\n",
              "      <td>0.0</td>\n",
              "    </tr>\n",
              "    <tr>\n",
              "      <th>74.00</th>\n",
              "      <td>0.0</td>\n",
              "    </tr>\n",
              "    <tr>\n",
              "      <th>224.00</th>\n",
              "      <td>0.0</td>\n",
              "    </tr>\n",
              "    <tr>\n",
              "      <th>226.00</th>\n",
              "      <td>100.0</td>\n",
              "    </tr>\n",
              "    <tr>\n",
              "      <th>228.00</th>\n",
              "      <td>0.0</td>\n",
              "    </tr>\n",
              "    <tr>\n",
              "      <th>230.50</th>\n",
              "      <td>0.0</td>\n",
              "    </tr>\n",
              "    <tr>\n",
              "      <th>231.00</th>\n",
              "      <td>0.0</td>\n",
              "    </tr>\n",
              "    <tr>\n",
              "      <th>232.00</th>\n",
              "      <td>100.0</td>\n",
              "    </tr>\n",
              "    <tr>\n",
              "      <th>240.00</th>\n",
              "      <td>0.0</td>\n",
              "    </tr>\n",
              "  </tbody>\n",
              "</table>\n",
              "<p>208 rows × 1 columns</p>\n",
              "</div>"
            ],
            "text/plain": [
              "                Survived\n",
              "Pclass Age              \n",
              "1      -56.00        0.0\n",
              "       -46.00      100.0\n",
              "       -39.00        0.0\n",
              "       -36.00      100.0\n",
              "       -32.00      100.0\n",
              "       -2.00         0.0\n",
              "        0.92       100.0\n",
              "        4.00       100.0\n",
              "        11.00      100.0\n",
              "        14.00      100.0\n",
              "        15.00      100.0\n",
              "        16.00      100.0\n",
              "        17.00      100.0\n",
              "        18.00       75.0\n",
              "        19.00       60.0\n",
              "        21.00       66.7\n",
              "        22.00       80.0\n",
              "        23.00      100.0\n",
              "        24.00       71.4\n",
              "        25.00      100.0\n",
              "        26.00      100.0\n",
              "        27.00       75.0\n",
              "        28.00       40.0\n",
              "        29.00       50.0\n",
              "        30.00       71.4\n",
              "        31.00       60.0\n",
              "        32.00      100.0\n",
              "        33.00       75.0\n",
              "        34.00      100.0\n",
              "        35.00      100.0\n",
              "...                  ...\n",
              "3       41.00        0.0\n",
              "        42.00        0.0\n",
              "        43.00        0.0\n",
              "        44.00       25.0\n",
              "        45.00       20.0\n",
              "        45.50        0.0\n",
              "        47.00        0.0\n",
              "        48.00        0.0\n",
              "        49.00        0.0\n",
              "        50.00        0.0\n",
              "        51.00        0.0\n",
              "        54.00        0.0\n",
              "        55.00        0.0\n",
              "        55.50        0.0\n",
              "        59.00        0.0\n",
              "        61.00        0.0\n",
              "        62.00        0.0\n",
              "        63.00      100.0\n",
              "        65.00        0.0\n",
              "        66.00        0.0\n",
              "        69.00        0.0\n",
              "        70.50        0.0\n",
              "        74.00        0.0\n",
              "        224.00       0.0\n",
              "        226.00     100.0\n",
              "        228.00       0.0\n",
              "        230.50       0.0\n",
              "        231.00       0.0\n",
              "        232.00     100.0\n",
              "        240.00       0.0\n",
              "\n",
              "[208 rows x 1 columns]"
            ]
          },
          "execution_count": 34,
          "metadata": {},
          "output_type": "execute_result"
        }
      ],
      "source": [
        "# Group ages in values of 10\n",
        "#df1.assign(Agegroup = pd.cut(df1['Age'], bins=[0,11,21,31,41,51,61,71,81,91,101], right=False, labels=['0 to 10','10 to 20','20 to 30','30 to 40','40 to 50','50 to 60','60 to 70','70 to 80','80 to 90','90 to 100']))\n",
        "round(df1[['Age','Pclass','Survived']].groupby(['Pclass', 'Age']).mean()*100,1)"
      ]
    },
    {
      "cell_type": "code",
      "execution_count": 35,
      "metadata": {
        "colab": {
          "base_uri": "https://localhost:8080/",
          "height": 400
        },
        "id": "6QufhPQfMWZM",
        "outputId": "dce502f5-6bb9-4687-a03d-2a9fa6707fb2"
      },
      "outputs": [
        {
          "ename": "NameError",
          "evalue": "name 'sns' is not defined",
          "output_type": "error",
          "traceback": [
            "\u001b[1;31m---------------------------------------------------------------------------\u001b[0m",
            "\u001b[1;31mNameError\u001b[0m                                 Traceback (most recent call last)",
            "\u001b[1;32m<ipython-input-35-3d7b204d55dd>\u001b[0m in \u001b[0;36m<module>\u001b[1;34m()\u001b[0m\n\u001b[0;32m      1\u001b[0m \u001b[0mcorr\u001b[0m \u001b[1;33m=\u001b[0m \u001b[0mdf1\u001b[0m\u001b[1;33m.\u001b[0m\u001b[0mcorr\u001b[0m\u001b[1;33m(\u001b[0m\u001b[1;33m)\u001b[0m\u001b[1;33m\u001b[0m\u001b[0m\n\u001b[1;32m----> 2\u001b[1;33m \u001b[0msns\u001b[0m\u001b[1;33m.\u001b[0m\u001b[0mheatmap\u001b[0m\u001b[1;33m(\u001b[0m\u001b[0mcorr\u001b[0m\u001b[1;33m,\u001b[0m \u001b[0mannot\u001b[0m\u001b[1;33m=\u001b[0m\u001b[1;32mTrue\u001b[0m\u001b[1;33m,\u001b[0m \u001b[0mcbar\u001b[0m \u001b[1;33m=\u001b[0m \u001b[1;32mTrue\u001b[0m\u001b[1;33m,\u001b[0m \u001b[0mcmap\u001b[0m \u001b[1;33m=\u001b[0m \u001b[1;34m'Accent'\u001b[0m\u001b[1;33m)\u001b[0m\u001b[1;33m\u001b[0m\u001b[0m\n\u001b[0m",
            "\u001b[1;31mNameError\u001b[0m: name 'sns' is not defined"
          ]
        }
      ],
      "source": [
        "corr = df1.corr()\n",
        "sns.heatmap(corr, annot=True, cbar = True, cmap = 'Accent')"
      ]
    }
  ],
  "metadata": {
    "colab": {
      "collapsed_sections": [],
      "name": "titanic.ipynb",
      "provenance": []
    },
    "interpreter": {
      "hash": "c5882981e573e38caaac0be1bb1be721bfcef4d025a548f0c9473b6b29932c3b"
    },
    "kernelspec": {
      "display_name": "Python 3.6.6rc1 64-bit",
      "language": "python",
      "name": "python3"
    },
    "language_info": {
      "codemirror_mode": {
        "name": "ipython",
        "version": 3
      },
      "file_extension": ".py",
      "mimetype": "text/x-python",
      "name": "python",
      "nbconvert_exporter": "python",
      "pygments_lexer": "ipython3",
      "version": "3.6.6rc1"
    },
    "orig_nbformat": 4
  },
  "nbformat": 4,
  "nbformat_minor": 0
}
