{
  "cells": [
    {
      "cell_type": "markdown",
      "source": [
        "# Introduction\n",
        "This notebook looks at the Titanic passenger dataset and looks for factors that influence the survival rate for passengers. The data is first cleaned and null rows and outliers are dealt with before feature analysis. \n",
        "\n",
        "The notebook solves the following tasks:\n",
        "* Take a look at the data and clean it. Take a few words to justify your decisions and other reasonable alternatives.\n",
        "* How does various factors impact survival: age, sex, social class etc?\n",
        "* What are some potential correlations in the dataset between these factors? How can we account for them?"
      ],
      "metadata": {
        "id": "cO_qTp7nX0hr"
      }
    },
    {
      "cell_type": "markdown",
      "source": [
        "# Table Of Contents:\n",
        "\n",
        "## 1.   [Loading the dataset](#first)\n",
        "## 2.   [Cleaning the data](#second)\n",
        "  *   [Sex](#second-one)\n",
        "  *   [Age](#second-two)\n",
        "  *   [Fare](#second-three)\n",
        "  *   [Siblings/Parents Aboard](#second-four)\n",
        "  *   [Passenger Class](#second-five)\n",
        "  *   [Data cleaning summary](#second-six)\n",
        "\n",
        "## 3.[Feature analysis](#third) \n",
        "\n",
        "  *   [Passenger survival rate analysis](#third-one)\n",
        "  *   [Sex impact on survivability](#third-two)\n",
        "  *   [Passenger class influence on survivability](#third-three)\n",
        "  *   [Correlation between age and survivability](#third-four)\n",
        "  *   [Correlation between fare and survivability](#third-five)\n",
        "  *   [Children/Parents aboard](#third-six)\n",
        "  *   [Correlation between features](#third-seven)\n",
        "\n",
        "## 4. [Conclusion](#fourth)\n"
      ],
      "metadata": {
        "id": "HbH11EuDP_8X"
      }
    },
    {
      "cell_type": "markdown",
      "source": [
        "# Loading the dataset <a class='anchor' id='first'></a>"
      ],
      "metadata": {
        "id": "EEkQZhkbzP7X"
      }
    },
    {
      "cell_type": "code",
      "source": [
        "import pandas as pd\n",
        "import numpy as np\n",
        "import seaborn as sns\n",
        "import matplotlib.pyplot as plt"
      ],
      "metadata": {
        "id": "hI6zfDNfzvvA"
      },
      "execution_count": null,
      "outputs": []
    },
    {
      "cell_type": "code",
      "source": [
        "df = pd.read_csv('./titanic.csv')"
      ],
      "metadata": {
        "id": "WO_zuCorz1x0"
      },
      "execution_count": null,
      "outputs": []
    },
    {
      "cell_type": "code",
      "source": [
        "df.info()"
      ],
      "metadata": {
        "colab": {
          "base_uri": "https://localhost:8080/"
        },
        "id": "EaId4Wu20DIP",
        "outputId": "481825b0-462d-47dd-b7a3-4bdf64948bee"
      },
      "execution_count": null,
      "outputs": [
        {
          "output_type": "stream",
          "name": "stdout",
          "text": [
            "<class 'pandas.core.frame.DataFrame'>\n",
            "RangeIndex: 887 entries, 0 to 886\n",
            "Data columns (total 8 columns):\n",
            " #   Column                   Non-Null Count  Dtype  \n",
            "---  ------                   --------------  -----  \n",
            " 0   Survived                 887 non-null    int64  \n",
            " 1   Pclass                   887 non-null    object \n",
            " 2   Name                     887 non-null    object \n",
            " 3   Sex                      874 non-null    object \n",
            " 4   Age                      887 non-null    float64\n",
            " 5   Siblings/Spouses Aboard  887 non-null    int64  \n",
            " 6   Parents/Children Aboard  887 non-null    int64  \n",
            " 7   Fare                     887 non-null    float64\n",
            "dtypes: float64(2), int64(3), object(3)\n",
            "memory usage: 55.6+ KB\n"
          ]
        }
      ]
    },
    {
      "cell_type": "markdown",
      "source": [
        "# Cleaning the data <a class='anchor' id='second'></a>\n"
      ],
      "metadata": {
        "id": "R1tr934KzaWT"
      }
    },
    {
      "cell_type": "markdown",
      "source": [
        "Checking for null values\n"
      ],
      "metadata": {
        "id": "kBDFfN830ZqM"
      }
    },
    {
      "cell_type": "code",
      "source": [
        "df.isnull().sum()"
      ],
      "metadata": {
        "colab": {
          "base_uri": "https://localhost:8080/"
        },
        "id": "SyG9hxMvzYc7",
        "outputId": "66782f7b-4f45-4dfd-c331-07e6c3cb30fe"
      },
      "execution_count": null,
      "outputs": [
        {
          "output_type": "execute_result",
          "data": {
            "text/plain": [
              "Survived                    0\n",
              "Pclass                      0\n",
              "Name                        0\n",
              "Sex                        13\n",
              "Age                         0\n",
              "Siblings/Spouses Aboard     0\n",
              "Parents/Children Aboard     0\n",
              "Fare                        0\n",
              "dtype: int64"
            ]
          },
          "metadata": {},
          "execution_count": 4
        }
      ]
    },
    {
      "cell_type": "markdown",
      "source": [
        "Checking for duplicated values in the dataset"
      ],
      "metadata": {
        "id": "lJ1jP4v1dkQT"
      }
    },
    {
      "cell_type": "code",
      "source": [
        "df.duplicated().value_counts()"
      ],
      "metadata": {
        "colab": {
          "base_uri": "https://localhost:8080/"
        },
        "id": "Wldv8hCadYZg",
        "outputId": "47360118-2c3b-4cc3-b0a3-5af430c67d8e"
      },
      "execution_count": null,
      "outputs": [
        {
          "output_type": "execute_result",
          "data": {
            "text/plain": [
              "False    887\n",
              "dtype: int64"
            ]
          },
          "metadata": {},
          "execution_count": 5
        }
      ]
    },
    {
      "cell_type": "markdown",
      "source": [
        "# Sex <a class='anchor' id='second-one'></a>"
      ],
      "metadata": {
        "id": "kIGvrsqE8bs6"
      }
    },
    {
      "cell_type": "markdown",
      "source": [
        "There are 13 values in the Sex column that are null, we can use the honorifics from the name column to determine the sex of the passenger"
      ],
      "metadata": {
        "id": "fVxG4GwQ01pE"
      }
    },
    {
      "cell_type": "code",
      "source": [
        "for i, row in df.iterrows():\n",
        "  row_sex = df.at[i,'Sex']\n",
        "  if row_sex != 'male' and row_sex != 'female':\n",
        "    new_name = df.at[i,'Name']\n",
        "    prefix = new_name.split('.')[0]\n",
        "    if prefix == 'Mr':\n",
        "      df.at[i,'Sex'] = 'male'\n",
        "    else:\n",
        "      df.at[i,'Sex'] = 'female'\n"
      ],
      "metadata": {
        "id": "hAWOHYNY09DM"
      },
      "execution_count": null,
      "outputs": []
    },
    {
      "cell_type": "markdown",
      "source": [
        "The prefix variable above returns the honorifics used in the name column. The variable returned either 'Mr' or 'Miss' or 'Mrs' so the if condition then checks if the honorific is 'Mr' to assign the passenger as male, else female. "
      ],
      "metadata": {
        "id": "_WEkV_7OAPOb"
      }
    },
    {
      "cell_type": "markdown",
      "source": [
        "Alternative solutions would be to remove the null value rows or use the mean to assign them to a value but these are not viable solutions since the name column can help us identify the sex of the passenger. "
      ],
      "metadata": {
        "id": "4N58jyUulNKh"
      }
    },
    {
      "cell_type": "markdown",
      "source": [
        "# Age <a class='anchor' id='second-two'></a>"
      ],
      "metadata": {
        "id": "rNP41zwF8WHs"
      }
    },
    {
      "cell_type": "code",
      "source": [
        "sns.boxplot(df['Age'])"
      ],
      "metadata": {
        "colab": {
          "base_uri": "https://localhost:8080/"
        },
        "id": "tZAqk6z4eeV4",
        "outputId": "0a0a03aa-bfcd-4f9f-cf35-9b912616384d"
      },
      "execution_count": null,
      "outputs": [
        {
          "output_type": "stream",
          "name": "stderr",
          "text": [
            "/usr/local/lib/python3.7/dist-packages/seaborn/_decorators.py:43: FutureWarning: Pass the following variable as a keyword arg: x. From version 0.12, the only valid positional argument will be `data`, and passing other arguments without an explicit keyword will result in an error or misinterpretation.\n",
            "  FutureWarning\n"
          ]
        },
        {
          "output_type": "execute_result",
          "data": {
            "text/plain": [
              "<matplotlib.axes._subplots.AxesSubplot at 0x7fc456c0f650>"
            ]
          },
          "metadata": {},
          "execution_count": 7
        },
        {
          "output_type": "display_data",
          "data": {
            "text/plain": [
              "<Figure size 432x288 with 1 Axes>"
            ],
            "image/png": "[encoded data removed]"
          },
          "metadata": {
            "needs_background": "light"
          }
        }
      ]
    },
    {
      "cell_type": "markdown",
      "source": [
        "Since the age has some outliers, values below 0 and above 100. We can reshape the dataframe to exclude these values."
      ],
      "metadata": {
        "id": "WgUd7cY-60zg"
      }
    },
    {
      "cell_type": "code",
      "source": [
        "df = df[(df.Age > 0) & (df.Age < 101)]"
      ],
      "metadata": {
        "id": "is0S9l1D4d3P"
      },
      "execution_count": null,
      "outputs": []
    },
    {
      "cell_type": "markdown",
      "source": [
        "# Fare <a class='anchor' id='second-three'></a>"
      ],
      "metadata": {
        "id": "pSJbx5OP8hBW"
      }
    },
    {
      "cell_type": "code",
      "source": [
        "df.hist(column='Fare')"
      ],
      "metadata": {
        "colab": {
          "base_uri": "https://localhost:8080/"
        },
        "id": "fohzPwzx6uhe",
        "outputId": "aef784fd-76a6-4148-cfb9-82a5931ad558"
      },
      "execution_count": null,
      "outputs": [
        {
          "output_type": "execute_result",
          "data": {
            "text/plain": [
              "array([[<matplotlib.axes._subplots.AxesSubplot object at 0x7fc456693dd0>]],\n",
              "      dtype=object)"
            ]
          },
          "metadata": {},
          "execution_count": 9
        },
        {
          "output_type": "display_data",
          "data": {
            "text/plain": [
              "<Figure size 432x288 with 1 Axes>"
            ],
            "image/png": "[encoded data removed]"
          },
          "metadata": {
            "needs_background": "light"
          }
        }
      ]
    },
    {
      "cell_type": "markdown",
      "source": [
        "The fare column shows some outliers where some passengers are paying upwards of 500,000 for a ticket so these values are removed from the dataset. "
      ],
      "metadata": {
        "id": "Oj7tb_8F9Zwb"
      }
    },
    {
      "cell_type": "code",
      "source": [
        "df = df[df.Fare < 1000]"
      ],
      "metadata": {
        "id": "tY3gdrR49RHm"
      },
      "execution_count": null,
      "outputs": []
    },
    {
      "cell_type": "markdown",
      "source": [
        "# Siblings/ Parents Aboard <a class='anchor' id='second-four'></a>"
      ],
      "metadata": {
        "id": "vhRho90o-Fvk"
      }
    },
    {
      "cell_type": "markdown",
      "source": [
        "Looking at the dataset there are values for the columns siblings aboard and parents aboard which are negative. These values are not used for the analysis and are dropped from the data frame. "
      ],
      "metadata": {
        "id": "tj0gluYs-uh9"
      }
    },
    {
      "cell_type": "code",
      "source": [
        "df = df[(df['Parents/Children Aboard']>=0) & (df['Siblings/Spouses Aboard']>=0)]"
      ],
      "metadata": {
        "id": "Gt6wQd3c9qoG"
      },
      "execution_count": null,
      "outputs": []
    },
    {
      "cell_type": "markdown",
      "source": [
        "# Passenger class <a class='anchor' id='second-five'></a>"
      ],
      "metadata": {
        "id": "5Ld7Uvu6JqG0"
      }
    },
    {
      "cell_type": "code",
      "source": [
        "df['Pclass'].describe()"
      ],
      "metadata": {
        "colab": {
          "base_uri": "https://localhost:8080/"
        },
        "id": "kCMhIWterMZb",
        "outputId": "4526ad7e-328e-46f4-dac8-1c7e7aadbaa8"
      },
      "execution_count": null,
      "outputs": [
        {
          "output_type": "execute_result",
          "data": {
            "text/plain": [
              "count          825\n",
              "unique          22\n",
              "top       3-pclass\n",
              "freq           242\n",
              "Name: Pclass, dtype: object"
            ]
          },
          "metadata": {},
          "execution_count": 12
        }
      ]
    },
    {
      "cell_type": "markdown",
      "source": [
        "Since there are many variations for the passenger class like '3-pclass', '3 pclass' and '3 pla' all indicating the passenger belongs to passenger class 3, we replace the values in the column with the first character in the string."
      ],
      "metadata": {
        "id": "0xibh85LWoZv"
      }
    },
    {
      "cell_type": "code",
      "source": [
        "df['Pclass'] = df['Pclass'].str[0]"
      ],
      "metadata": {
        "id": "en91yXUaNYIo"
      },
      "execution_count": null,
      "outputs": []
    },
    {
      "cell_type": "code",
      "source": [
        "df['Pclass'].value_counts()"
      ],
      "metadata": {
        "colab": {
          "base_uri": "https://localhost:8080/"
        },
        "id": "bBiDXNeSoDBJ",
        "outputId": "5c56332c-e46a-474e-9d41-60831baa95b7"
      },
      "execution_count": null,
      "outputs": [
        {
          "output_type": "execute_result",
          "data": {
            "text/plain": [
              "3    451\n",
              "1    200\n",
              "2    174\n",
              "Name: Pclass, dtype: int64"
            ]
          },
          "metadata": {},
          "execution_count": 14
        }
      ]
    },
    {
      "cell_type": "markdown",
      "source": [
        "# Data cleaning summary:<a class='anchor' id='second-six'></a>\n",
        "\n",
        "\n",
        "*   Replaced empty values in the sex column based on the honorifics used.\n",
        "*   Checked for any duplicates in the dataset.\n",
        "*   Dropped outliers from the dataset that appeared in the age, fare, siblings aboard and parents aboard columns.\n",
        "\n"
      ],
      "metadata": {
        "id": "_r8TPxI7W04I"
      }
    },
    {
      "cell_type": "code",
      "source": [
        "df.info()"
      ],
      "metadata": {
        "colab": {
          "base_uri": "https://localhost:8080/"
        },
        "id": "rPdTHrrUVUYf",
        "outputId": "e5606063-23a1-4986-8feb-87f5a57c8f3c"
      },
      "execution_count": null,
      "outputs": [
        {
          "output_type": "stream",
          "name": "stdout",
          "text": [
            "<class 'pandas.core.frame.DataFrame'>\n",
            "Int64Index: 825 entries, 0 to 886\n",
            "Data columns (total 8 columns):\n",
            " #   Column                   Non-Null Count  Dtype  \n",
            "---  ------                   --------------  -----  \n",
            " 0   Survived                 825 non-null    int64  \n",
            " 1   Pclass                   825 non-null    object \n",
            " 2   Name                     825 non-null    object \n",
            " 3   Sex                      825 non-null    object \n",
            " 4   Age                      825 non-null    float64\n",
            " 5   Siblings/Spouses Aboard  825 non-null    int64  \n",
            " 6   Parents/Children Aboard  825 non-null    int64  \n",
            " 7   Fare                     825 non-null    float64\n",
            "dtypes: float64(2), int64(3), object(3)\n",
            "memory usage: 58.0+ KB\n"
          ]
        }
      ]
    },
    {
      "cell_type": "markdown",
      "source": [
        "After cleaning the dataset, the entries have reduced to 825 rows but there are no more outliers in the dataset and all values are non-null."
      ],
      "metadata": {
        "id": "Y7tHo6q6WMlA"
      }
    },
    {
      "cell_type": "markdown",
      "source": [
        "# Feature analysis <a class='anchor' id='third'></a>"
      ],
      "metadata": {
        "id": "oECRU0Bv_we8"
      }
    },
    {
      "cell_type": "markdown",
      "source": [
        "# Passenger survival rate analysis <a class='anchor' id='third-one'></a>"
      ],
      "metadata": {
        "id": "8ffoVyoeKak3"
      }
    },
    {
      "cell_type": "code",
      "source": [
        "survival = df['Survived'].value_counts().plot(kind='bar')\n",
        "survival.set_xticklabels(['Deceased', 'Survived'])\n",
        "survival.set(ylabel = 'Passenger Count')\n",
        "plt.show()"
      ],
      "metadata": {
        "colab": {
          "base_uri": "https://localhost:8080/"
        },
        "id": "UM6c2-t3_8I2",
        "outputId": "f0f7240d-0586-400b-ff57-e3f96c9b126d"
      },
      "execution_count": null,
      "outputs": [
        {
          "output_type": "display_data",
          "data": {
            "text/plain": [
              "<Figure size 432x288 with 1 Axes>"
            ],
            "image/png": "[encoded data removed]"
          },
          "metadata": {
            "needs_background": "light"
          }
        }
      ]
    },
    {
      "cell_type": "code",
      "source": [
        "df['Survived'].value_counts() / df['Survived'].value_counts().sum()"
      ],
      "metadata": {
        "colab": {
          "base_uri": "https://localhost:8080/"
        },
        "id": "6w8pABemgGD9",
        "outputId": "524983bd-0f6f-440b-f0d7-04fcdea9480c"
      },
      "execution_count": null,
      "outputs": [
        {
          "output_type": "execute_result",
          "data": {
            "text/plain": [
              "0    0.607273\n",
              "1    0.392727\n",
              "Name: Survived, dtype: float64"
            ]
          },
          "metadata": {},
          "execution_count": 17
        }
      ]
    },
    {
      "cell_type": "markdown",
      "source": [
        "Only **39%** of passengers who boarded the Titanic survived."
      ],
      "metadata": {
        "id": "Lvwao0CrgrFb"
      }
    },
    {
      "cell_type": "markdown",
      "source": [
        "# Sex impact on survivability <a class='anchor' id='third-two'></a>"
      ],
      "metadata": {
        "id": "mIsKWJSHcaiV"
      }
    },
    {
      "cell_type": "code",
      "source": [
        "sns.catplot(x='Sex', hue='Survived', kind='count',data=df)\n",
        "# 0 represents deceased and 1 represents survived in the figure."
      ],
      "metadata": {
        "colab": {
          "base_uri": "https://localhost:8080/"
        },
        "id": "Y5BXFn5YbcKs",
        "outputId": "f10a7a71-9284-4242-fdf5-597f42a3c3f5"
      },
      "execution_count": null,
      "outputs": [
        {
          "output_type": "execute_result",
          "data": {
            "text/plain": [
              "<seaborn.axisgrid.FacetGrid at 0x7fc45654f110>"
            ]
          },
          "metadata": {},
          "execution_count": 18
        },
        {
          "output_type": "display_data",
          "data": {
            "text/plain": [
              "<Figure size 411.875x360 with 1 Axes>"
            ],
            "image/png": "[encoded data removed]"
          },
          "metadata": {
            "needs_background": "light"
          }
        }
      ]
    },
    {
      "cell_type": "markdown",
      "source": [
        "The graph above shows that there were more men than women on board."
      ],
      "metadata": {
        "id": "b2FWIy55rs0B"
      }
    },
    {
      "cell_type": "code",
      "source": [
        "# Correlation between men and women and their survival rate \n",
        "df['Sex'].str.get_dummies().corrwith(df['Survived']/df['Survived'].max())"
      ],
      "metadata": {
        "colab": {
          "base_uri": "https://localhost:8080/"
        },
        "id": "1HU1i2VjbK5K",
        "outputId": "ed1f96e9-5a63-4ccd-c798-798c4401040d"
      },
      "execution_count": null,
      "outputs": [
        {
          "output_type": "execute_result",
          "data": {
            "text/plain": [
              "female    0.554865\n",
              "male     -0.554865\n",
              "dtype: float64"
            ]
          },
          "metadata": {},
          "execution_count": 19
        }
      ]
    },
    {
      "cell_type": "markdown",
      "source": [
        "The correlation above tells us that there is a positive relationship between women on board and surviving the Titanic and there is a moderately negative relationship between men on board and surviving the crash."
      ],
      "metadata": {
        "id": "LrUWUhRFUl2T"
      }
    },
    {
      "cell_type": "code",
      "source": [
        "round(df[['Sex','Survived']].groupby(['Sex']).mean()*100,1)"
      ],
      "metadata": {
        "colab": {
          "base_uri": "https://localhost:8080/"
        },
        "id": "xB7BdrrGbhhm",
        "outputId": "9dd1f47d-f70f-4f60-aae4-9b965710f25e"
      },
      "execution_count": null,
      "outputs": [
        {
          "output_type": "execute_result",
          "data": {
            "text/plain": [
              "        Survived\n",
              "Sex             \n",
              "female      75.6\n",
              "male        19.1"
            ],
            "text/html": [
              "\n",
              "  <div id=\"df-3595c41d-a3c3-482d-90bb-a2c3f426a307\">\n",
              "    <div class=\"colab-df-container\">\n",
              "      <div>\n",
              "<style scoped>\n",
              "    .dataframe tbody tr th:only-of-type {\n",
              "        vertical-align: middle;\n",
              "    }\n",
              "\n",
              "    .dataframe tbody tr th {\n",
              "        vertical-align: top;\n",
              "    }\n",
              "\n",
              "    .dataframe thead th {\n",
              "        text-align: right;\n",
              "    }\n",
              "</style>\n",
              "<table border=\"1\" class=\"dataframe\">\n",
              "  <thead>\n",
              "    <tr style=\"text-align: right;\">\n",
              "      <th></th>\n",
              "      <th>Survived</th>\n",
              "    </tr>\n",
              "    <tr>\n",
              "      <th>Sex</th>\n",
              "      <th></th>\n",
              "    </tr>\n",
              "  </thead>\n",
              "  <tbody>\n",
              "    <tr>\n",
              "      <th>female</th>\n",
              "      <td>75.6</td>\n",
              "    </tr>\n",
              "    <tr>\n",
              "      <th>male</th>\n",
              "      <td>19.1</td>\n",
              "    </tr>\n",
              "  </tbody>\n",
              "</table>\n",
              "</div>\n",
              "      <button class=\"colab-df-convert\" onclick=\"convertToInteractive('df-3595c41d-a3c3-482d-90bb-a2c3f426a307')\"\n",
              "              title=\"Convert this dataframe to an interactive table.\"\n",
              "              style=\"display:none;\">\n",
              "        \n",
              "  <svg xmlns=\"http://www.w3.org/2000/svg\" height=\"24px\"viewBox=\"0 0 24 24\"\n",
              "       width=\"24px\">\n",
              "    <path d=\"M0 0h24v24H0V0z\" fill=\"none\"/>\n",
              "    <path d=\"M18.56 5.44l.94 2.06.94-2.06 2.06-.94-2.06-.94-.94-2.06-.94 2.06-2.06.94zm-11 1L8.5 8.5l.94-2.06 2.06-.94-2.06-.94L8.5 2.5l-.94 2.06-2.06.94zm10 10l.94 2.06.94-2.06 2.06-.94-2.06-.94-.94-2.06-.94 2.06-2.06.94z\"/><path d=\"M17.41 7.96l-1.37-1.37c-.4-.4-.92-.59-1.43-.59-.52 0-1.04.2-1.43.59L10.3 9.45l-7.72 7.72c-.78.78-.78 2.05 0 2.83L4 21.41c.39.39.9.59 1.41.59.51 0 1.02-.2 1.41-.59l7.78-7.78 2.81-2.81c.8-.78.8-2.07 0-2.86zM5.41 20L4 18.59l7.72-7.72 1.47 1.35L5.41 20z\"/>\n",
              "  </svg>\n",
              "      </button>\n",
              "      \n",
              "  <style>\n",
              "    .colab-df-container {\n",
              "      display:flex;\n",
              "      flex-wrap:wrap;\n",
              "      gap: 12px;\n",
              "    }\n",
              "\n",
              "    .colab-df-convert {\n",
              "      background-color: #E8F0FE;\n",
              "      border: none;\n",
              "      border-radius: 50%;\n",
              "      cursor: pointer;\n",
              "      display: none;\n",
              "      fill: #1967D2;\n",
              "      height: 32px;\n",
              "      padding: 0 0 0 0;\n",
              "      width: 32px;\n",
              "    }\n",
              "\n",
              "    .colab-df-convert:hover {\n",
              "      background-color: #E2EBFA;\n",
              "      box-shadow: 0px 1px 2px rgba(60, 64, 67, 0.3), 0px 1px 3px 1px rgba(60, 64, 67, 0.15);\n",
              "      fill: #174EA6;\n",
              "    }\n",
              "\n",
              "    [theme=dark] .colab-df-convert {\n",
              "      background-color: #3B4455;\n",
              "      fill: #D2E3FC;\n",
              "    }\n",
              "\n",
              "    [theme=dark] .colab-df-convert:hover {\n",
              "      background-color: #434B5C;\n",
              "      box-shadow: 0px 1px 3px 1px rgba(0, 0, 0, 0.15);\n",
              "      filter: drop-shadow(0px 1px 2px rgba(0, 0, 0, 0.3));\n",
              "      fill: #FFFFFF;\n",
              "    }\n",
              "  </style>\n",
              "\n",
              "      <script>\n",
              "        const buttonEl =\n",
              "          document.querySelector('#df-3595c41d-a3c3-482d-90bb-a2c3f426a307 button.colab-df-convert');\n",
              "        buttonEl.style.display =\n",
              "          google.colab.kernel.accessAllowed ? 'block' : 'none';\n",
              "\n",
              "        async function convertToInteractive(key) {\n",
              "          const element = document.querySelector('#df-3595c41d-a3c3-482d-90bb-a2c3f426a307');\n",
              "          const dataTable =\n",
              "            await google.colab.kernel.invokeFunction('convertToInteractive',\n",
              "                                                     [key], {});\n",
              "          if (!dataTable) return;\n",
              "\n",
              "          const docLinkHtml = 'Like what you see? Visit the ' +\n",
              "            '<a target=\"_blank\" href=https://colab.research.google.com/notebooks/data_table.ipynb>data table notebook</a>'\n",
              "            + ' to learn more about interactive tables.';\n",
              "          element.innerHTML = '';\n",
              "          dataTable['output_type'] = 'display_data';\n",
              "          await google.colab.output.renderOutput(dataTable, element);\n",
              "          const docLink = document.createElement('div');\n",
              "          docLink.innerHTML = docLinkHtml;\n",
              "          element.appendChild(docLink);\n",
              "        }\n",
              "      </script>\n",
              "    </div>\n",
              "  </div>\n",
              "  "
            ]
          },
          "metadata": {},
          "execution_count": 20
        }
      ]
    },
    {
      "cell_type": "markdown",
      "source": [
        "Women had a **75.6%** chance of survivability as compared to men who had a **19.1%** to survive on the Titanic. Correlation also confirms that women are more likely to survive than men. "
      ],
      "metadata": {
        "id": "5BxS0gKbgt_P"
      }
    },
    {
      "cell_type": "markdown",
      "source": [
        "# Passenger class influence on survivability <a class='anchor' id='third-three'></a>"
      ],
      "metadata": {
        "id": "EXErYr0xcXY0"
      }
    },
    {
      "cell_type": "markdown",
      "source": [
        "Passengers who travelled in first class are **more likely** to survive than passengers in the second class and third class. "
      ],
      "metadata": {
        "id": "qgy1Fu6aEEER"
      }
    },
    {
      "cell_type": "code",
      "source": [
        "round(df[['Pclass','Survived']].groupby(['Pclass']).mean()*100,1)"
      ],
      "metadata": {
        "colab": {
          "base_uri": "https://localhost:8080/"
        },
        "id": "o3_rzYogKKST",
        "outputId": "f9945f64-11b3-42ed-c729-ee3a59c10210"
      },
      "execution_count": null,
      "outputs": [
        {
          "output_type": "execute_result",
          "data": {
            "text/plain": [
              "        Survived\n",
              "Pclass          \n",
              "1           65.0\n",
              "2           46.0\n",
              "3           25.3"
            ],
            "text/html": [
              "\n",
              "  <div id=\"df-5097dcbf-f768-41ec-a074-b20ea900cd9a\">\n",
              "    <div class=\"colab-df-container\">\n",
              "      <div>\n",
              "<style scoped>\n",
              "    .dataframe tbody tr th:only-of-type {\n",
              "        vertical-align: middle;\n",
              "    }\n",
              "\n",
              "    .dataframe tbody tr th {\n",
              "        vertical-align: top;\n",
              "    }\n",
              "\n",
              "    .dataframe thead th {\n",
              "        text-align: right;\n",
              "    }\n",
              "</style>\n",
              "<table border=\"1\" class=\"dataframe\">\n",
              "  <thead>\n",
              "    <tr style=\"text-align: right;\">\n",
              "      <th></th>\n",
              "      <th>Survived</th>\n",
              "    </tr>\n",
              "    <tr>\n",
              "      <th>Pclass</th>\n",
              "      <th></th>\n",
              "    </tr>\n",
              "  </thead>\n",
              "  <tbody>\n",
              "    <tr>\n",
              "      <th>1</th>\n",
              "      <td>65.0</td>\n",
              "    </tr>\n",
              "    <tr>\n",
              "      <th>2</th>\n",
              "      <td>46.0</td>\n",
              "    </tr>\n",
              "    <tr>\n",
              "      <th>3</th>\n",
              "      <td>25.3</td>\n",
              "    </tr>\n",
              "  </tbody>\n",
              "</table>\n",
              "</div>\n",
              "      <button class=\"colab-df-convert\" onclick=\"convertToInteractive('df-5097dcbf-f768-41ec-a074-b20ea900cd9a')\"\n",
              "              title=\"Convert this dataframe to an interactive table.\"\n",
              "              style=\"display:none;\">\n",
              "        \n",
              "  <svg xmlns=\"http://www.w3.org/2000/svg\" height=\"24px\"viewBox=\"0 0 24 24\"\n",
              "       width=\"24px\">\n",
              "    <path d=\"M0 0h24v24H0V0z\" fill=\"none\"/>\n",
              "    <path d=\"M18.56 5.44l.94 2.06.94-2.06 2.06-.94-2.06-.94-.94-2.06-.94 2.06-2.06.94zm-11 1L8.5 8.5l.94-2.06 2.06-.94-2.06-.94L8.5 2.5l-.94 2.06-2.06.94zm10 10l.94 2.06.94-2.06 2.06-.94-2.06-.94-.94-2.06-.94 2.06-2.06.94z\"/><path d=\"M17.41 7.96l-1.37-1.37c-.4-.4-.92-.59-1.43-.59-.52 0-1.04.2-1.43.59L10.3 9.45l-7.72 7.72c-.78.78-.78 2.05 0 2.83L4 21.41c.39.39.9.59 1.41.59.51 0 1.02-.2 1.41-.59l7.78-7.78 2.81-2.81c.8-.78.8-2.07 0-2.86zM5.41 20L4 18.59l7.72-7.72 1.47 1.35L5.41 20z\"/>\n",
              "  </svg>\n",
              "      </button>\n",
              "      \n",
              "  <style>\n",
              "    .colab-df-container {\n",
              "      display:flex;\n",
              "      flex-wrap:wrap;\n",
              "      gap: 12px;\n",
              "    }\n",
              "\n",
              "    .colab-df-convert {\n",
              "      background-color: #E8F0FE;\n",
              "      border: none;\n",
              "      border-radius: 50%;\n",
              "      cursor: pointer;\n",
              "      display: none;\n",
              "      fill: #1967D2;\n",
              "      height: 32px;\n",
              "      padding: 0 0 0 0;\n",
              "      width: 32px;\n",
              "    }\n",
              "\n",
              "    .colab-df-convert:hover {\n",
              "      background-color: #E2EBFA;\n",
              "      box-shadow: 0px 1px 2px rgba(60, 64, 67, 0.3), 0px 1px 3px 1px rgba(60, 64, 67, 0.15);\n",
              "      fill: #174EA6;\n",
              "    }\n",
              "\n",
              "    [theme=dark] .colab-df-convert {\n",
              "      background-color: #3B4455;\n",
              "      fill: #D2E3FC;\n",
              "    }\n",
              "\n",
              "    [theme=dark] .colab-df-convert:hover {\n",
              "      background-color: #434B5C;\n",
              "      box-shadow: 0px 1px 3px 1px rgba(0, 0, 0, 0.15);\n",
              "      filter: drop-shadow(0px 1px 2px rgba(0, 0, 0, 0.3));\n",
              "      fill: #FFFFFF;\n",
              "    }\n",
              "  </style>\n",
              "\n",
              "      <script>\n",
              "        const buttonEl =\n",
              "          document.querySelector('#df-5097dcbf-f768-41ec-a074-b20ea900cd9a button.colab-df-convert');\n",
              "        buttonEl.style.display =\n",
              "          google.colab.kernel.accessAllowed ? 'block' : 'none';\n",
              "\n",
              "        async function convertToInteractive(key) {\n",
              "          const element = document.querySelector('#df-5097dcbf-f768-41ec-a074-b20ea900cd9a');\n",
              "          const dataTable =\n",
              "            await google.colab.kernel.invokeFunction('convertToInteractive',\n",
              "                                                     [key], {});\n",
              "          if (!dataTable) return;\n",
              "\n",
              "          const docLinkHtml = 'Like what you see? Visit the ' +\n",
              "            '<a target=\"_blank\" href=https://colab.research.google.com/notebooks/data_table.ipynb>data table notebook</a>'\n",
              "            + ' to learn more about interactive tables.';\n",
              "          element.innerHTML = '';\n",
              "          dataTable['output_type'] = 'display_data';\n",
              "          await google.colab.output.renderOutput(dataTable, element);\n",
              "          const docLink = document.createElement('div');\n",
              "          docLink.innerHTML = docLinkHtml;\n",
              "          element.appendChild(docLink);\n",
              "        }\n",
              "      </script>\n",
              "    </div>\n",
              "  </div>\n",
              "  "
            ]
          },
          "metadata": {},
          "execution_count": 21
        }
      ]
    },
    {
      "cell_type": "code",
      "source": [
        "group = df.groupby(['Pclass','Survived'])\n",
        "pclass_survived = group.size().unstack()\n",
        "sns.heatmap(pclass_survived, annot = True, fmt='d', cmap='flare')\n",
        "\n",
        "# In the survived column, 0 represents deceased and 1 represents survived."
      ],
      "metadata": {
        "colab": {
          "base_uri": "https://localhost:8080/"
        },
        "id": "zpOzOfTE4gVP",
        "outputId": "838236cd-7b99-4717-e804-ca6b0567ed8a"
      },
      "execution_count": null,
      "outputs": [
        {
          "output_type": "execute_result",
          "data": {
            "text/plain": [
              "<matplotlib.axes._subplots.AxesSubplot at 0x7fc45651ce10>"
            ]
          },
          "metadata": {},
          "execution_count": 22
        },
        {
          "output_type": "display_data",
          "data": {
            "text/plain": [
              "<Figure size 432x288 with 2 Axes>"
            ],
            "image/png": "[encoded data removed]"
          },
          "metadata": {
            "needs_background": "light"
          }
        }
      ]
    },
    {
      "cell_type": "code",
      "source": [
        "round(df[['Pclass','Sex','Survived']].groupby(['Pclass','Sex']).mean()*100,1)"
      ],
      "metadata": {
        "colab": {
          "base_uri": "https://localhost:8080/"
        },
        "id": "rcj_kLEmgH3t",
        "outputId": "448bdbd5-a892-4153-96c4-a8d63625440b"
      },
      "execution_count": null,
      "outputs": [
        {
          "output_type": "execute_result",
          "data": {
            "text/plain": [
              "               Survived\n",
              "Pclass Sex             \n",
              "1      female      97.8\n",
              "       male        38.2\n",
              "2      female      91.5\n",
              "       male        14.6\n",
              "3      female      52.2\n",
              "       male        13.9"
            ],
            "text/html": [
              "\n",
              "  <div id=\"df-156019c1-f419-44e8-b6f4-5a0803e11c3b\">\n",
              "    <div class=\"colab-df-container\">\n",
              "      <div>\n",
              "<style scoped>\n",
              "    .dataframe tbody tr th:only-of-type {\n",
              "        vertical-align: middle;\n",
              "    }\n",
              "\n",
              "    .dataframe tbody tr th {\n",
              "        vertical-align: top;\n",
              "    }\n",
              "\n",
              "    .dataframe thead th {\n",
              "        text-align: right;\n",
              "    }\n",
              "</style>\n",
              "<table border=\"1\" class=\"dataframe\">\n",
              "  <thead>\n",
              "    <tr style=\"text-align: right;\">\n",
              "      <th></th>\n",
              "      <th></th>\n",
              "      <th>Survived</th>\n",
              "    </tr>\n",
              "    <tr>\n",
              "      <th>Pclass</th>\n",
              "      <th>Sex</th>\n",
              "      <th></th>\n",
              "    </tr>\n",
              "  </thead>\n",
              "  <tbody>\n",
              "    <tr>\n",
              "      <th rowspan=\"2\" valign=\"top\">1</th>\n",
              "      <th>female</th>\n",
              "      <td>97.8</td>\n",
              "    </tr>\n",
              "    <tr>\n",
              "      <th>male</th>\n",
              "      <td>38.2</td>\n",
              "    </tr>\n",
              "    <tr>\n",
              "      <th rowspan=\"2\" valign=\"top\">2</th>\n",
              "      <th>female</th>\n",
              "      <td>91.5</td>\n",
              "    </tr>\n",
              "    <tr>\n",
              "      <th>male</th>\n",
              "      <td>14.6</td>\n",
              "    </tr>\n",
              "    <tr>\n",
              "      <th rowspan=\"2\" valign=\"top\">3</th>\n",
              "      <th>female</th>\n",
              "      <td>52.2</td>\n",
              "    </tr>\n",
              "    <tr>\n",
              "      <th>male</th>\n",
              "      <td>13.9</td>\n",
              "    </tr>\n",
              "  </tbody>\n",
              "</table>\n",
              "</div>\n",
              "      <button class=\"colab-df-convert\" onclick=\"convertToInteractive('df-156019c1-f419-44e8-b6f4-5a0803e11c3b')\"\n",
              "              title=\"Convert this dataframe to an interactive table.\"\n",
              "              style=\"display:none;\">\n",
              "        \n",
              "  <svg xmlns=\"http://www.w3.org/2000/svg\" height=\"24px\"viewBox=\"0 0 24 24\"\n",
              "       width=\"24px\">\n",
              "    <path d=\"M0 0h24v24H0V0z\" fill=\"none\"/>\n",
              "    <path d=\"M18.56 5.44l.94 2.06.94-2.06 2.06-.94-2.06-.94-.94-2.06-.94 2.06-2.06.94zm-11 1L8.5 8.5l.94-2.06 2.06-.94-2.06-.94L8.5 2.5l-.94 2.06-2.06.94zm10 10l.94 2.06.94-2.06 2.06-.94-2.06-.94-.94-2.06-.94 2.06-2.06.94z\"/><path d=\"M17.41 7.96l-1.37-1.37c-.4-.4-.92-.59-1.43-.59-.52 0-1.04.2-1.43.59L10.3 9.45l-7.72 7.72c-.78.78-.78 2.05 0 2.83L4 21.41c.39.39.9.59 1.41.59.51 0 1.02-.2 1.41-.59l7.78-7.78 2.81-2.81c.8-.78.8-2.07 0-2.86zM5.41 20L4 18.59l7.72-7.72 1.47 1.35L5.41 20z\"/>\n",
              "  </svg>\n",
              "      </button>\n",
              "      \n",
              "  <style>\n",
              "    .colab-df-container {\n",
              "      display:flex;\n",
              "      flex-wrap:wrap;\n",
              "      gap: 12px;\n",
              "    }\n",
              "\n",
              "    .colab-df-convert {\n",
              "      background-color: #E8F0FE;\n",
              "      border: none;\n",
              "      border-radius: 50%;\n",
              "      cursor: pointer;\n",
              "      display: none;\n",
              "      fill: #1967D2;\n",
              "      height: 32px;\n",
              "      padding: 0 0 0 0;\n",
              "      width: 32px;\n",
              "    }\n",
              "\n",
              "    .colab-df-convert:hover {\n",
              "      background-color: #E2EBFA;\n",
              "      box-shadow: 0px 1px 2px rgba(60, 64, 67, 0.3), 0px 1px 3px 1px rgba(60, 64, 67, 0.15);\n",
              "      fill: #174EA6;\n",
              "    }\n",
              "\n",
              "    [theme=dark] .colab-df-convert {\n",
              "      background-color: #3B4455;\n",
              "      fill: #D2E3FC;\n",
              "    }\n",
              "\n",
              "    [theme=dark] .colab-df-convert:hover {\n",
              "      background-color: #434B5C;\n",
              "      box-shadow: 0px 1px 3px 1px rgba(0, 0, 0, 0.15);\n",
              "      filter: drop-shadow(0px 1px 2px rgba(0, 0, 0, 0.3));\n",
              "      fill: #FFFFFF;\n",
              "    }\n",
              "  </style>\n",
              "\n",
              "      <script>\n",
              "        const buttonEl =\n",
              "          document.querySelector('#df-156019c1-f419-44e8-b6f4-5a0803e11c3b button.colab-df-convert');\n",
              "        buttonEl.style.display =\n",
              "          google.colab.kernel.accessAllowed ? 'block' : 'none';\n",
              "\n",
              "        async function convertToInteractive(key) {\n",
              "          const element = document.querySelector('#df-156019c1-f419-44e8-b6f4-5a0803e11c3b');\n",
              "          const dataTable =\n",
              "            await google.colab.kernel.invokeFunction('convertToInteractive',\n",
              "                                                     [key], {});\n",
              "          if (!dataTable) return;\n",
              "\n",
              "          const docLinkHtml = 'Like what you see? Visit the ' +\n",
              "            '<a target=\"_blank\" href=https://colab.research.google.com/notebooks/data_table.ipynb>data table notebook</a>'\n",
              "            + ' to learn more about interactive tables.';\n",
              "          element.innerHTML = '';\n",
              "          dataTable['output_type'] = 'display_data';\n",
              "          await google.colab.output.renderOutput(dataTable, element);\n",
              "          const docLink = document.createElement('div');\n",
              "          docLink.innerHTML = docLinkHtml;\n",
              "          element.appendChild(docLink);\n",
              "        }\n",
              "      </script>\n",
              "    </div>\n",
              "  </div>\n",
              "  "
            ]
          },
          "metadata": {},
          "execution_count": 23
        }
      ]
    },
    {
      "cell_type": "markdown",
      "source": [
        "For men, travelling in second class or third class shows almost the same survivability rate while for women, travelling in the first or second class shows similar survivability rates. "
      ],
      "metadata": {
        "id": "whEsuZTIqdhJ"
      }
    },
    {
      "cell_type": "markdown",
      "source": [
        "# Correlation between age and survivability <a class='anchor' id='third-four'></a>"
      ],
      "metadata": {
        "id": "twfABFJxmFlz"
      }
    },
    {
      "cell_type": "code",
      "source": [
        "sns.violinplot(x='Sex', y='Age', hue='Survived', data=df, split = True, color='Green')"
      ],
      "metadata": {
        "colab": {
          "base_uri": "https://localhost:8080/"
        },
        "id": "uBt7q-XeoMwe",
        "outputId": "60532b9a-01b3-4cd6-e571-b62521b88361"
      },
      "execution_count": null,
      "outputs": [
        {
          "output_type": "execute_result",
          "data": {
            "text/plain": [
              "<matplotlib.axes._subplots.AxesSubplot at 0x7fc4564de350>"
            ]
          },
          "metadata": {},
          "execution_count": 24
        },
        {
          "output_type": "display_data",
          "data": {
            "text/plain": [
              "<Figure size 432x288 with 1 Axes>"
            ],
            "image/png": "[encoded data removed]"
          },
          "metadata": {
            "needs_background": "light"
          }
        }
      ]
    },
    {
      "cell_type": "markdown",
      "source": [
        "* The graph aboves tells us that the survival rate is better for women for the age range of 20 to 50.\n",
        "* Most male passengers who died on the Titanic were around 20 years old and there were fewer male survivors as the age increased."
      ],
      "metadata": {
        "id": "6SNw2q_i5o_w"
      }
    },
    {
      "cell_type": "markdown",
      "source": [
        "# Correlation between fare and survivability <a class='anchor' id='third-five'></a>"
      ],
      "metadata": {
        "id": "aDUy4vb78S5s"
      }
    },
    {
      "cell_type": "code",
      "source": [
        "df['Fare_Range'] = pd.qcut(df['Fare'],4)\n",
        "sns.barplot(x='Fare_Range', y='Survived', data=df)\n"
      ],
      "metadata": {
        "colab": {
          "base_uri": "https://localhost:8080/"
        },
        "id": "JqKC4OyI8SSK",
        "outputId": "55ddd3bf-23e3-4aa8-fc04-0983aa6738ff"
      },
      "execution_count": null,
      "outputs": [
        {
          "output_type": "execute_result",
          "data": {
            "text/plain": [
              "<matplotlib.axes._subplots.AxesSubplot at 0x7fc451b6b0d0>"
            ]
          },
          "metadata": {},
          "execution_count": 25
        },
        {
          "output_type": "display_data",
          "data": {
            "text/plain": [
              "<Figure size 432x288 with 1 Axes>"
            ],
            "image/png": "[encoded data removed]"
          },
          "metadata": {
            "needs_background": "light"
          }
        }
      ]
    },
    {
      "cell_type": "markdown",
      "source": [
        "From the graph above, we can see as the fare increases, there is a steady increase in survivability for the passenger. A higher fare could also imply that the passenger is more likely to be in the higher passenger class which correlate to a better survival rate. "
      ],
      "metadata": {
        "id": "35Sy7rWo8uOH"
      }
    },
    {
      "cell_type": "markdown",
      "source": [
        "# Children/Parents Aboard<a class='anchor' id='third-six'></a>"
      ],
      "metadata": {
        "id": "MrTpHQ2QLCvQ"
      }
    },
    {
      "cell_type": "code",
      "source": [
        "sns.countplot(x='Siblings/Spouses Aboard', hue='Survived', data=df)"
      ],
      "metadata": {
        "colab": {
          "base_uri": "https://localhost:8080/"
        },
        "id": "VZItTH05clPg",
        "outputId": "85ccfa84-9a6d-4d70-f2ce-b144b5970e17"
      },
      "execution_count": null,
      "outputs": [
        {
          "output_type": "execute_result",
          "data": {
            "text/plain": [
              "<matplotlib.axes._subplots.AxesSubplot at 0x7fc451a94250>"
            ]
          },
          "metadata": {},
          "execution_count": 26
        },
        {
          "output_type": "display_data",
          "data": {
            "text/plain": [
              "<Figure size 432x288 with 1 Axes>"
            ],
            "image/png": "[encoded data removed]"
          },
          "metadata": {
            "needs_background": "light"
          }
        }
      ]
    },
    {
      "cell_type": "markdown",
      "source": [
        "This graph above tells us that most passengers on board travelled alone."
      ],
      "metadata": {
        "id": "q0Wc_ngai32J"
      }
    },
    {
      "cell_type": "code",
      "source": [
        "round(df[['Siblings/Spouses Aboard','Survived']].groupby(['Siblings/Spouses Aboard']).mean()*100,1)"
      ],
      "metadata": {
        "colab": {
          "base_uri": "https://localhost:8080/"
        },
        "id": "Y-inwSWXMhvs",
        "outputId": "ba06bbee-b600-49e9-bf25-dbe9119f1424"
      },
      "execution_count": null,
      "outputs": [
        {
          "output_type": "execute_result",
          "data": {
            "text/plain": [
              "                         Survived\n",
              "Siblings/Spouses Aboard          \n",
              "0                            35.1\n",
              "1                            54.5\n",
              "2                            48.1\n",
              "3                            28.6\n",
              "4                            21.4\n",
              "5                             0.0\n",
              "8                             0.0"
            ],
            "text/html": [
              "\n",
              "  <div id=\"df-fbde35c1-f81f-44cb-b715-d5ba79df441c\">\n",
              "    <div class=\"colab-df-container\">\n",
              "      <div>\n",
              "<style scoped>\n",
              "    .dataframe tbody tr th:only-of-type {\n",
              "        vertical-align: middle;\n",
              "    }\n",
              "\n",
              "    .dataframe tbody tr th {\n",
              "        vertical-align: top;\n",
              "    }\n",
              "\n",
              "    .dataframe thead th {\n",
              "        text-align: right;\n",
              "    }\n",
              "</style>\n",
              "<table border=\"1\" class=\"dataframe\">\n",
              "  <thead>\n",
              "    <tr style=\"text-align: right;\">\n",
              "      <th></th>\n",
              "      <th>Survived</th>\n",
              "    </tr>\n",
              "    <tr>\n",
              "      <th>Siblings/Spouses Aboard</th>\n",
              "      <th></th>\n",
              "    </tr>\n",
              "  </thead>\n",
              "  <tbody>\n",
              "    <tr>\n",
              "      <th>0</th>\n",
              "      <td>35.1</td>\n",
              "    </tr>\n",
              "    <tr>\n",
              "      <th>1</th>\n",
              "      <td>54.5</td>\n",
              "    </tr>\n",
              "    <tr>\n",
              "      <th>2</th>\n",
              "      <td>48.1</td>\n",
              "    </tr>\n",
              "    <tr>\n",
              "      <th>3</th>\n",
              "      <td>28.6</td>\n",
              "    </tr>\n",
              "    <tr>\n",
              "      <th>4</th>\n",
              "      <td>21.4</td>\n",
              "    </tr>\n",
              "    <tr>\n",
              "      <th>5</th>\n",
              "      <td>0.0</td>\n",
              "    </tr>\n",
              "    <tr>\n",
              "      <th>8</th>\n",
              "      <td>0.0</td>\n",
              "    </tr>\n",
              "  </tbody>\n",
              "</table>\n",
              "</div>\n",
              "      <button class=\"colab-df-convert\" onclick=\"convertToInteractive('df-fbde35c1-f81f-44cb-b715-d5ba79df441c')\"\n",
              "              title=\"Convert this dataframe to an interactive table.\"\n",
              "              style=\"display:none;\">\n",
              "        \n",
              "  <svg xmlns=\"http://www.w3.org/2000/svg\" height=\"24px\"viewBox=\"0 0 24 24\"\n",
              "       width=\"24px\">\n",
              "    <path d=\"M0 0h24v24H0V0z\" fill=\"none\"/>\n",
              "    <path d=\"M18.56 5.44l.94 2.06.94-2.06 2.06-.94-2.06-.94-.94-2.06-.94 2.06-2.06.94zm-11 1L8.5 8.5l.94-2.06 2.06-.94-2.06-.94L8.5 2.5l-.94 2.06-2.06.94zm10 10l.94 2.06.94-2.06 2.06-.94-2.06-.94-.94-2.06-.94 2.06-2.06.94z\"/><path d=\"M17.41 7.96l-1.37-1.37c-.4-.4-.92-.59-1.43-.59-.52 0-1.04.2-1.43.59L10.3 9.45l-7.72 7.72c-.78.78-.78 2.05 0 2.83L4 21.41c.39.39.9.59 1.41.59.51 0 1.02-.2 1.41-.59l7.78-7.78 2.81-2.81c.8-.78.8-2.07 0-2.86zM5.41 20L4 18.59l7.72-7.72 1.47 1.35L5.41 20z\"/>\n",
              "  </svg>\n",
              "      </button>\n",
              "      \n",
              "  <style>\n",
              "    .colab-df-container {\n",
              "      display:flex;\n",
              "      flex-wrap:wrap;\n",
              "      gap: 12px;\n",
              "    }\n",
              "\n",
              "    .colab-df-convert {\n",
              "      background-color: #E8F0FE;\n",
              "      border: none;\n",
              "      border-radius: 50%;\n",
              "      cursor: pointer;\n",
              "      display: none;\n",
              "      fill: #1967D2;\n",
              "      height: 32px;\n",
              "      padding: 0 0 0 0;\n",
              "      width: 32px;\n",
              "    }\n",
              "\n",
              "    .colab-df-convert:hover {\n",
              "      background-color: #E2EBFA;\n",
              "      box-shadow: 0px 1px 2px rgba(60, 64, 67, 0.3), 0px 1px 3px 1px rgba(60, 64, 67, 0.15);\n",
              "      fill: #174EA6;\n",
              "    }\n",
              "\n",
              "    [theme=dark] .colab-df-convert {\n",
              "      background-color: #3B4455;\n",
              "      fill: #D2E3FC;\n",
              "    }\n",
              "\n",
              "    [theme=dark] .colab-df-convert:hover {\n",
              "      background-color: #434B5C;\n",
              "      box-shadow: 0px 1px 3px 1px rgba(0, 0, 0, 0.15);\n",
              "      filter: drop-shadow(0px 1px 2px rgba(0, 0, 0, 0.3));\n",
              "      fill: #FFFFFF;\n",
              "    }\n",
              "  </style>\n",
              "\n",
              "      <script>\n",
              "        const buttonEl =\n",
              "          document.querySelector('#df-fbde35c1-f81f-44cb-b715-d5ba79df441c button.colab-df-convert');\n",
              "        buttonEl.style.display =\n",
              "          google.colab.kernel.accessAllowed ? 'block' : 'none';\n",
              "\n",
              "        async function convertToInteractive(key) {\n",
              "          const element = document.querySelector('#df-fbde35c1-f81f-44cb-b715-d5ba79df441c');\n",
              "          const dataTable =\n",
              "            await google.colab.kernel.invokeFunction('convertToInteractive',\n",
              "                                                     [key], {});\n",
              "          if (!dataTable) return;\n",
              "\n",
              "          const docLinkHtml = 'Like what you see? Visit the ' +\n",
              "            '<a target=\"_blank\" href=https://colab.research.google.com/notebooks/data_table.ipynb>data table notebook</a>'\n",
              "            + ' to learn more about interactive tables.';\n",
              "          element.innerHTML = '';\n",
              "          dataTable['output_type'] = 'display_data';\n",
              "          await google.colab.output.renderOutput(dataTable, element);\n",
              "          const docLink = document.createElement('div');\n",
              "          docLink.innerHTML = docLinkHtml;\n",
              "          element.appendChild(docLink);\n",
              "        }\n",
              "      </script>\n",
              "    </div>\n",
              "  </div>\n",
              "  "
            ]
          },
          "metadata": {},
          "execution_count": 27
        }
      ]
    },
    {
      "cell_type": "markdown",
      "source": [
        "We also see a similar trend when looking at the column 'Parents/Children Aboard'"
      ],
      "metadata": {
        "id": "FNepi1_nc-6E"
      }
    },
    {
      "cell_type": "code",
      "source": [
        "sns.countplot(x='Parents/Children Aboard', hue='Survived', data=df)"
      ],
      "metadata": {
        "colab": {
          "base_uri": "https://localhost:8080/"
        },
        "id": "XHHFfkN8cw5U",
        "outputId": "f05feb3d-34c0-4f49-8567-d327c466b563"
      },
      "execution_count": null,
      "outputs": [
        {
          "output_type": "execute_result",
          "data": {
            "text/plain": [
              "<matplotlib.axes._subplots.AxesSubplot at 0x7fc4519bb4d0>"
            ]
          },
          "metadata": {},
          "execution_count": 28
        },
        {
          "output_type": "display_data",
          "data": {
            "text/plain": [
              "<Figure size 432x288 with 1 Axes>"
            ],
            "image/png": "[encoded data removed]"
          },
          "metadata": {
            "needs_background": "light"
          }
        }
      ]
    },
    {
      "cell_type": "code",
      "source": [
        "round(df[['Parents/Children Aboard','Survived']].groupby(['Parents/Children Aboard']).mean()*100,1)"
      ],
      "metadata": {
        "colab": {
          "base_uri": "https://localhost:8080/"
        },
        "id": "97Pgc3IFNQTE",
        "outputId": "2f0ea320-5fe1-492a-8fd1-78545c2ced29"
      },
      "execution_count": null,
      "outputs": [
        {
          "output_type": "execute_result",
          "data": {
            "text/plain": [
              "                         Survived\n",
              "Parents/Children Aboard          \n",
              "0                            34.8\n",
              "1                            56.3\n",
              "2                            54.9\n",
              "3                            60.0\n",
              "4                             0.0\n",
              "5                            50.0\n",
              "6                             0.0"
            ],
            "text/html": [
              "\n",
              "  <div id=\"df-5171fcc7-44a9-45c1-8b1e-d3a7a47be2f3\">\n",
              "    <div class=\"colab-df-container\">\n",
              "      <div>\n",
              "<style scoped>\n",
              "    .dataframe tbody tr th:only-of-type {\n",
              "        vertical-align: middle;\n",
              "    }\n",
              "\n",
              "    .dataframe tbody tr th {\n",
              "        vertical-align: top;\n",
              "    }\n",
              "\n",
              "    .dataframe thead th {\n",
              "        text-align: right;\n",
              "    }\n",
              "</style>\n",
              "<table border=\"1\" class=\"dataframe\">\n",
              "  <thead>\n",
              "    <tr style=\"text-align: right;\">\n",
              "      <th></th>\n",
              "      <th>Survived</th>\n",
              "    </tr>\n",
              "    <tr>\n",
              "      <th>Parents/Children Aboard</th>\n",
              "      <th></th>\n",
              "    </tr>\n",
              "  </thead>\n",
              "  <tbody>\n",
              "    <tr>\n",
              "      <th>0</th>\n",
              "      <td>34.8</td>\n",
              "    </tr>\n",
              "    <tr>\n",
              "      <th>1</th>\n",
              "      <td>56.3</td>\n",
              "    </tr>\n",
              "    <tr>\n",
              "      <th>2</th>\n",
              "      <td>54.9</td>\n",
              "    </tr>\n",
              "    <tr>\n",
              "      <th>3</th>\n",
              "      <td>60.0</td>\n",
              "    </tr>\n",
              "    <tr>\n",
              "      <th>4</th>\n",
              "      <td>0.0</td>\n",
              "    </tr>\n",
              "    <tr>\n",
              "      <th>5</th>\n",
              "      <td>50.0</td>\n",
              "    </tr>\n",
              "    <tr>\n",
              "      <th>6</th>\n",
              "      <td>0.0</td>\n",
              "    </tr>\n",
              "  </tbody>\n",
              "</table>\n",
              "</div>\n",
              "      <button class=\"colab-df-convert\" onclick=\"convertToInteractive('df-5171fcc7-44a9-45c1-8b1e-d3a7a47be2f3')\"\n",
              "              title=\"Convert this dataframe to an interactive table.\"\n",
              "              style=\"display:none;\">\n",
              "        \n",
              "  <svg xmlns=\"http://www.w3.org/2000/svg\" height=\"24px\"viewBox=\"0 0 24 24\"\n",
              "       width=\"24px\">\n",
              "    <path d=\"M0 0h24v24H0V0z\" fill=\"none\"/>\n",
              "    <path d=\"M18.56 5.44l.94 2.06.94-2.06 2.06-.94-2.06-.94-.94-2.06-.94 2.06-2.06.94zm-11 1L8.5 8.5l.94-2.06 2.06-.94-2.06-.94L8.5 2.5l-.94 2.06-2.06.94zm10 10l.94 2.06.94-2.06 2.06-.94-2.06-.94-.94-2.06-.94 2.06-2.06.94z\"/><path d=\"M17.41 7.96l-1.37-1.37c-.4-.4-.92-.59-1.43-.59-.52 0-1.04.2-1.43.59L10.3 9.45l-7.72 7.72c-.78.78-.78 2.05 0 2.83L4 21.41c.39.39.9.59 1.41.59.51 0 1.02-.2 1.41-.59l7.78-7.78 2.81-2.81c.8-.78.8-2.07 0-2.86zM5.41 20L4 18.59l7.72-7.72 1.47 1.35L5.41 20z\"/>\n",
              "  </svg>\n",
              "      </button>\n",
              "      \n",
              "  <style>\n",
              "    .colab-df-container {\n",
              "      display:flex;\n",
              "      flex-wrap:wrap;\n",
              "      gap: 12px;\n",
              "    }\n",
              "\n",
              "    .colab-df-convert {\n",
              "      background-color: #E8F0FE;\n",
              "      border: none;\n",
              "      border-radius: 50%;\n",
              "      cursor: pointer;\n",
              "      display: none;\n",
              "      fill: #1967D2;\n",
              "      height: 32px;\n",
              "      padding: 0 0 0 0;\n",
              "      width: 32px;\n",
              "    }\n",
              "\n",
              "    .colab-df-convert:hover {\n",
              "      background-color: #E2EBFA;\n",
              "      box-shadow: 0px 1px 2px rgba(60, 64, 67, 0.3), 0px 1px 3px 1px rgba(60, 64, 67, 0.15);\n",
              "      fill: #174EA6;\n",
              "    }\n",
              "\n",
              "    [theme=dark] .colab-df-convert {\n",
              "      background-color: #3B4455;\n",
              "      fill: #D2E3FC;\n",
              "    }\n",
              "\n",
              "    [theme=dark] .colab-df-convert:hover {\n",
              "      background-color: #434B5C;\n",
              "      box-shadow: 0px 1px 3px 1px rgba(0, 0, 0, 0.15);\n",
              "      filter: drop-shadow(0px 1px 2px rgba(0, 0, 0, 0.3));\n",
              "      fill: #FFFFFF;\n",
              "    }\n",
              "  </style>\n",
              "\n",
              "      <script>\n",
              "        const buttonEl =\n",
              "          document.querySelector('#df-5171fcc7-44a9-45c1-8b1e-d3a7a47be2f3 button.colab-df-convert');\n",
              "        buttonEl.style.display =\n",
              "          google.colab.kernel.accessAllowed ? 'block' : 'none';\n",
              "\n",
              "        async function convertToInteractive(key) {\n",
              "          const element = document.querySelector('#df-5171fcc7-44a9-45c1-8b1e-d3a7a47be2f3');\n",
              "          const dataTable =\n",
              "            await google.colab.kernel.invokeFunction('convertToInteractive',\n",
              "                                                     [key], {});\n",
              "          if (!dataTable) return;\n",
              "\n",
              "          const docLinkHtml = 'Like what you see? Visit the ' +\n",
              "            '<a target=\"_blank\" href=https://colab.research.google.com/notebooks/data_table.ipynb>data table notebook</a>'\n",
              "            + ' to learn more about interactive tables.';\n",
              "          element.innerHTML = '';\n",
              "          dataTable['output_type'] = 'display_data';\n",
              "          await google.colab.output.renderOutput(dataTable, element);\n",
              "          const docLink = document.createElement('div');\n",
              "          docLink.innerHTML = docLinkHtml;\n",
              "          element.appendChild(docLink);\n",
              "        }\n",
              "      </script>\n",
              "    </div>\n",
              "  </div>\n",
              "  "
            ]
          },
          "metadata": {},
          "execution_count": 29
        }
      ]
    },
    {
      "cell_type": "markdown",
      "source": [
        "From the graphs above we notice that most people on board the Titanic travelled alone and we can see similar survival rates for passengers with up to 2 family members. "
      ],
      "metadata": {
        "id": "ceCtvsw9McOy"
      }
    },
    {
      "cell_type": "markdown",
      "source": [
        "# Correlation between features <a class='anchor' id='third-seven'></a>"
      ],
      "metadata": {
        "id": "qgahhDPCenSh"
      }
    },
    {
      "cell_type": "code",
      "source": [
        "corr = df.corr()\n",
        "sns.heatmap(corr, annot=True, cbar= True, cmap='Accent')"
      ],
      "metadata": {
        "colab": {
          "base_uri": "https://localhost:8080/"
        },
        "id": "vPWIgJkfV-Fh",
        "outputId": "e39c8561-8b35-4b6f-cbf2-c268ebdb7d9d"
      },
      "execution_count": null,
      "outputs": [
        {
          "output_type": "execute_result",
          "data": {
            "text/plain": [
              "<matplotlib.axes._subplots.AxesSubplot at 0x7fc451961bd0>"
            ]
          },
          "metadata": {},
          "execution_count": 30
        },
        {
          "output_type": "display_data",
          "data": {
            "text/plain": [
              "<Figure size 432x288 with 2 Axes>"
            ],
            "image/png": "[encoded data removed]"
          },
          "metadata": {
            "needs_background": "light"
          }
        }
      ]
    },
    {
      "cell_type": "markdown",
      "source": [
        "Takeways from the correlation matrix:\n",
        "*   Siblings/Spouses aboard  and Parents/Children aborad have a high positive correlation, so passnegers who aren't travelling alone are most likely travelling with their family. \n",
        "*   Fare has a positive impact on survival, as the fare increases, the passengers have a greater chance for survival. \n",
        "\n"
      ],
      "metadata": {
        "id": "0FhDt2aXZwkD"
      }
    },
    {
      "cell_type": "markdown",
      "source": [
        "# Conclusion <a class='anchor' id='fourth'></a>"
      ],
      "metadata": {
        "id": "L0RgKdkp7n_Q"
      }
    },
    {
      "cell_type": "markdown",
      "source": [
        "Based on the analysis, the insights that I have found are:\n",
        "\n",
        "There were more men on board the Titanic than women, that's why the overall survival rate is lower than the female survival rate.\n",
        "\n",
        "**Age**\n",
        "* Female passengers had the best chance of survival between the ages of 20-50.\n",
        "* Male passengers had a lower survival rate the older they were.\n",
        "\n",
        "**Sex and passenger class**\n",
        "*   Female passengers, especially those in first class or second class were the most likely to survive the crash.\n",
        "*   Male passengers had an almost identical survival rate whether they travelled in second class or third class.\n",
        "\n",
        "**Fare**\n",
        "*   As the fare increased, the passenger was more likely to survive.\n",
        "\n",
        "**Parents/Children Aboard and Siblings/Spouses Aboard**\n",
        "* Passengers had a better survival rate if they were travelling as a family compared to travelling alone.\n",
        "  \n",
        "\n",
        "\n",
        "\n"
      ],
      "metadata": {
        "id": "JD3GrxSc7rnO"
      }
    }
  ],
  "metadata": {
    "interpreter": {
      "hash": "c5882981e573e38caaac0be1bb1be721bfcef4d025a548f0c9473b6b29932c3b"
    },
    "kernelspec": {
      "display_name": "Python 3.6.6rc1 64-bit",
      "language": "python",
      "name": "python3"
    },
    "language_info": {
      "codemirror_mode": {
        "name": "ipython",
        "version": 3
      },
      "file_extension": ".py",
      "mimetype": "text/x-python",
      "name": "python",
      "nbconvert_exporter": "python",
      "pygments_lexer": "ipython3",
      "version": "3.6.6rc1"
    },
    "orig_nbformat": 4,
    "colab": {
      "name": "titanic.ipynb",
      "provenance": [],
      "collapsed_sections": [
        "EEkQZhkbzP7X",
        "R1tr934KzaWT",
        "kIGvrsqE8bs6",
        "rNP41zwF8WHs",
        "pSJbx5OP8hBW",
        "vhRho90o-Fvk",
        "5Ld7Uvu6JqG0",
        "_r8TPxI7W04I",
        "8ffoVyoeKak3",
        "mIsKWJSHcaiV",
        "EXErYr0xcXY0",
        "twfABFJxmFlz",
        "aDUy4vb78S5s",
        "MrTpHQ2QLCvQ",
        "qgahhDPCenSh",
        "L0RgKdkp7n_Q"
      ]
    }
  },
  "nbformat": 4,
  "nbformat_minor": 0
}